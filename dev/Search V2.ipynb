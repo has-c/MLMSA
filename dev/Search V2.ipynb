{
 "metadata": {
  "language_info": {
   "codemirror_mode": {
    "name": "ipython",
    "version": 3
   },
   "file_extension": ".py",
   "mimetype": "text/x-python",
   "name": "python",
   "nbconvert_exporter": "python",
   "pygments_lexer": "ipython3",
   "version": "3.8.6-final"
  },
  "orig_nbformat": 2,
  "kernelspec": {
   "name": "python3",
   "display_name": "Python 3.8.6 64-bit ('msenv')",
   "metadata": {
    "interpreter": {
     "hash": "9e9a6b1173e2f90e266027f3ae62e6ffbb2c1a5c66762eb6ec0ef6fd0c3835d9"
    }
   }
  }
 },
 "nbformat": 4,
 "nbformat_minor": 2,
 "cells": [
  {
   "source": [
    "# BIRCH - Binding Site Search\n",
    "\n",
    "### Stages of core algorithm\n",
    "\n",
    "1. Peak search \n",
    "2. Generate theoretical binding sites\n",
    "3. Match peaks to list\n",
    "4. Filter list using rules"
   ],
   "cell_type": "markdown",
   "metadata": {}
  },
  {
   "cell_type": "code",
   "execution_count": 1,
   "metadata": {},
   "outputs": [],
   "source": [
    "import pandas as pd\n",
    "import numpy as np \n",
    "from scipy.signal import find_peaks \n",
    "from sklearn.preprocessing import MinMaxScaler\n",
    "from tqdm import tqdm\n",
    "from os import listdir\n",
    "from itertools import *"
   ]
  },
  {
   "source": [
    "## Config Parameters"
   ],
   "cell_type": "markdown",
   "metadata": {}
  },
  {
   "cell_type": "code",
   "execution_count": 2,
   "metadata": {},
   "outputs": [],
   "source": [
    "tolerance = 0.5 #0.5 Da\n",
    "\n",
    "#subscript for formatting of chemistry strings\n",
    "sub = str.maketrans(\"0123456789\", \"₀₁₂₃₄₅₆₇₈₉\")"
   ]
  },
  {
   "source": [
    "## Import Data"
   ],
   "cell_type": "markdown",
   "metadata": {}
  },
  {
   "cell_type": "code",
   "execution_count": 3,
   "metadata": {},
   "outputs": [
    {
     "output_type": "stream",
     "name": "stdout",
     "text": [
      "bound:  Ubiquitin_plusC_1in100_000001.xlsx\ncompounds:  Compounds_CisOxTrans.xlsx\n"
     ]
    }
   ],
   "source": [
    "input_data_path = \"..//Data//\"\n",
    "compound_list_path = input_data_path + \"Compound Constraints//\"\n",
    "spectra_path = input_data_path + \"Deconvoluted Spectra//\"\n",
    "\n",
    "#read in data\n",
    "spectra_files = listdir(spectra_path)\n",
    "bound_df = pd.read_excel(spectra_path+spectra_files[0])\n",
    "unbound_df = pd.read_excel(spectra_path+spectra_files[1])\n",
    "\n",
    "compounds_files = listdir(compound_list_path)\n",
    "compounds_df = pd.read_excel(compound_list_path+compounds_files[1])\n",
    "\n",
    "print(\"bound: \", spectra_files[0])\n",
    "print(\"compounds: \", compounds_files[1])"
   ]
  },
  {
   "cell_type": "code",
   "execution_count": 4,
   "metadata": {},
   "outputs": [
    {
     "output_type": "execute_result",
     "data": {
      "text/plain": [
       "    ID            Name             Formula      Mass  Min  Max  Charge   \\\n",
       "0    1           Water                 H2O    19.018    1    3      NaN   \n",
       "1    2        Chlorine                  Cl    35.976    1    6      NaN   \n",
       "2    3        Platinum                  Pt   195.972    1    3      NaN   \n",
       "3    4         Ammonia                 NH3    18.034    1    6      NaN   \n",
       "4    5          Sodium                  Na    23.997    1    2      NaN   \n",
       "5    6       Potassium                   K    39.971    1    2      NaN   \n",
       "6    7         Hydroxy                  OH    18.010    1    5      NaN   \n",
       "7    8     Amino Group                 NH2    17.026    1    5      NaN   \n",
       "8    9        Ammonium                 NH4    19.042    1    5      NaN   \n",
       "9   10        Oxalate                 C2O4    88.987    1    3      NaN   \n",
       "10  11  Bis(dabconium)             N2C6H14   115.123    1    3      NaN   \n",
       "11  12       Ubiquitin  C378H630N105O118S1  8566.646    1    1      NaN   \n",
       "\n",
       "   Primary Secondary  \n",
       "0      NaN       NaN  \n",
       "1      NaN       NaN  \n",
       "2      NaN       Yes  \n",
       "3      NaN       NaN  \n",
       "4      NaN       NaN  \n",
       "5      NaN       NaN  \n",
       "6      NaN       NaN  \n",
       "7      NaN       NaN  \n",
       "8      NaN       NaN  \n",
       "9      NaN       NaN  \n",
       "10     NaN       NaN  \n",
       "11     Yes       NaN  "
      ],
      "text/html": "<div>\n<style scoped>\n    .dataframe tbody tr th:only-of-type {\n        vertical-align: middle;\n    }\n\n    .dataframe tbody tr th {\n        vertical-align: top;\n    }\n\n    .dataframe thead th {\n        text-align: right;\n    }\n</style>\n<table border=\"1\" class=\"dataframe\">\n  <thead>\n    <tr style=\"text-align: right;\">\n      <th></th>\n      <th>ID</th>\n      <th>Name</th>\n      <th>Formula</th>\n      <th>Mass</th>\n      <th>Min</th>\n      <th>Max</th>\n      <th>Charge</th>\n      <th>Primary</th>\n      <th>Secondary</th>\n    </tr>\n  </thead>\n  <tbody>\n    <tr>\n      <th>0</th>\n      <td>1</td>\n      <td>Water</td>\n      <td>H2O</td>\n      <td>19.018</td>\n      <td>1</td>\n      <td>3</td>\n      <td>NaN</td>\n      <td>NaN</td>\n      <td>NaN</td>\n    </tr>\n    <tr>\n      <th>1</th>\n      <td>2</td>\n      <td>Chlorine</td>\n      <td>Cl</td>\n      <td>35.976</td>\n      <td>1</td>\n      <td>6</td>\n      <td>NaN</td>\n      <td>NaN</td>\n      <td>NaN</td>\n    </tr>\n    <tr>\n      <th>2</th>\n      <td>3</td>\n      <td>Platinum</td>\n      <td>Pt</td>\n      <td>195.972</td>\n      <td>1</td>\n      <td>3</td>\n      <td>NaN</td>\n      <td>NaN</td>\n      <td>Yes</td>\n    </tr>\n    <tr>\n      <th>3</th>\n      <td>4</td>\n      <td>Ammonia</td>\n      <td>NH3</td>\n      <td>18.034</td>\n      <td>1</td>\n      <td>6</td>\n      <td>NaN</td>\n      <td>NaN</td>\n      <td>NaN</td>\n    </tr>\n    <tr>\n      <th>4</th>\n      <td>5</td>\n      <td>Sodium</td>\n      <td>Na</td>\n      <td>23.997</td>\n      <td>1</td>\n      <td>2</td>\n      <td>NaN</td>\n      <td>NaN</td>\n      <td>NaN</td>\n    </tr>\n    <tr>\n      <th>5</th>\n      <td>6</td>\n      <td>Potassium</td>\n      <td>K</td>\n      <td>39.971</td>\n      <td>1</td>\n      <td>2</td>\n      <td>NaN</td>\n      <td>NaN</td>\n      <td>NaN</td>\n    </tr>\n    <tr>\n      <th>6</th>\n      <td>7</td>\n      <td>Hydroxy</td>\n      <td>OH</td>\n      <td>18.010</td>\n      <td>1</td>\n      <td>5</td>\n      <td>NaN</td>\n      <td>NaN</td>\n      <td>NaN</td>\n    </tr>\n    <tr>\n      <th>7</th>\n      <td>8</td>\n      <td>Amino Group</td>\n      <td>NH2</td>\n      <td>17.026</td>\n      <td>1</td>\n      <td>5</td>\n      <td>NaN</td>\n      <td>NaN</td>\n      <td>NaN</td>\n    </tr>\n    <tr>\n      <th>8</th>\n      <td>9</td>\n      <td>Ammonium</td>\n      <td>NH4</td>\n      <td>19.042</td>\n      <td>1</td>\n      <td>5</td>\n      <td>NaN</td>\n      <td>NaN</td>\n      <td>NaN</td>\n    </tr>\n    <tr>\n      <th>9</th>\n      <td>10</td>\n      <td>Oxalate</td>\n      <td>C2O4</td>\n      <td>88.987</td>\n      <td>1</td>\n      <td>3</td>\n      <td>NaN</td>\n      <td>NaN</td>\n      <td>NaN</td>\n    </tr>\n    <tr>\n      <th>10</th>\n      <td>11</td>\n      <td>Bis(dabconium)</td>\n      <td>N2C6H14</td>\n      <td>115.123</td>\n      <td>1</td>\n      <td>3</td>\n      <td>NaN</td>\n      <td>NaN</td>\n      <td>NaN</td>\n    </tr>\n    <tr>\n      <th>11</th>\n      <td>12</td>\n      <td>Ubiquitin</td>\n      <td>C378H630N105O118S1</td>\n      <td>8566.646</td>\n      <td>1</td>\n      <td>1</td>\n      <td>NaN</td>\n      <td>Yes</td>\n      <td>NaN</td>\n    </tr>\n  </tbody>\n</table>\n</div>"
     },
     "metadata": {},
     "execution_count": 4
    }
   ],
   "source": [
    "compounds_df"
   ]
  },
  {
   "cell_type": "code",
   "execution_count": null,
   "metadata": {},
   "outputs": [],
   "source": []
  },
  {
   "cell_type": "code",
   "execution_count": null,
   "metadata": {},
   "outputs": [],
   "source": []
  },
  {
   "cell_type": "code",
   "execution_count": null,
   "metadata": {},
   "outputs": [],
   "source": []
  },
  {
   "source": [
    "## Create Binding List\n",
    "\n",
    "Purpose: Create theoretical list of possible combinations of drug bindings\n",
    "\n",
    "Define chemical combinations as trees where:\n",
    "<ol>\n",
    "    <li> The root node is the primary reactant </li>\n",
    "    <li> The nodes on the 1st level are the permutations of the secondary reactant as given by the min/max numbers </li>\n",
    "    <li> The nodes on each level after that are the permutations of the other reactants as given by the min/max numbers </li>\n",
    "</ol>"
   ],
   "cell_type": "markdown",
   "metadata": {}
  },
  {
   "cell_type": "code",
   "execution_count": 5,
   "metadata": {},
   "outputs": [],
   "source": [
    "#create forest of trees \n",
    "attributes_list = [\"Mass\", \"Min\", \"Max\"]\n",
    "\n",
    "#split into the 3 different types of reactants\n",
    "primary_reactant_df = compounds_df[compounds_df[\"Primary\"] == \"Yes\"]\n",
    "secondary_reactant_df = compounds_df[compounds_df[\"Secondary\"] == \"Yes\"]\n",
    "other_reactants_df = compounds_df[(compounds_df[\"Primary\"] != \"Yes\") & (compounds_df[\"Secondary\"] != \"Yes\")]\n",
    "\n",
    "#the number of trees in the forest correspond to the avaliability (max-min+1) of the primary reactant\n",
    "number_of_trees = primary_reactant_df[\"Max\"] - primary_reactant_df[\"Min\"] + 1"
   ]
  },
  {
   "cell_type": "code",
   "execution_count": 6,
   "metadata": {},
   "outputs": [
    {
     "output_type": "execute_result",
     "data": {
      "text/plain": [
       "11    1\n",
       "dtype: int64"
      ]
     },
     "metadata": {},
     "execution_count": 6
    }
   ],
   "source": [
    "#create the first tree\n",
    "tree = {}\n",
    "\n",
    "# tree[\"1\"]\n",
    "level_attributes = "
   ]
  },
  {
   "cell_type": "code",
   "execution_count": 8,
   "metadata": {},
   "outputs": [
    {
     "output_type": "execute_result",
     "data": {
      "text/plain": [
       "   ID      Name Formula     Mass  Min  Max  Charge  Primary Secondary\n",
       "2   3  Platinum      Pt  195.972    1    3      NaN     NaN       Yes"
      ],
      "text/html": "<div>\n<style scoped>\n    .dataframe tbody tr th:only-of-type {\n        vertical-align: middle;\n    }\n\n    .dataframe tbody tr th {\n        vertical-align: top;\n    }\n\n    .dataframe thead th {\n        text-align: right;\n    }\n</style>\n<table border=\"1\" class=\"dataframe\">\n  <thead>\n    <tr style=\"text-align: right;\">\n      <th></th>\n      <th>ID</th>\n      <th>Name</th>\n      <th>Formula</th>\n      <th>Mass</th>\n      <th>Min</th>\n      <th>Max</th>\n      <th>Charge</th>\n      <th>Primary</th>\n      <th>Secondary</th>\n    </tr>\n  </thead>\n  <tbody>\n    <tr>\n      <th>2</th>\n      <td>3</td>\n      <td>Platinum</td>\n      <td>Pt</td>\n      <td>195.972</td>\n      <td>1</td>\n      <td>3</td>\n      <td>NaN</td>\n      <td>NaN</td>\n      <td>Yes</td>\n    </tr>\n  </tbody>\n</table>\n</div>"
     },
     "metadata": {},
     "execution_count": 8
    }
   ],
   "source": [
    "secondary_reactant_df"
   ]
  },
  {
   "cell_type": "code",
   "execution_count": null,
   "metadata": {},
   "outputs": [],
   "source": []
  }
 ]
}