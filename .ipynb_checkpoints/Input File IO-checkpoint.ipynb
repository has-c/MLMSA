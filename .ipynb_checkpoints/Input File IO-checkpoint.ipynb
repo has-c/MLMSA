{
 "cells": [
  {
   "cell_type": "code",
   "execution_count": 2,
   "metadata": {},
   "outputs": [],
   "source": [
    "import pandas as pd\n",
    "from os import listdir\n",
    "import re"
   ]
  },
  {
   "cell_type": "markdown",
   "metadata": {},
   "source": [
    "### Convert XY to CSV - Combine seperate spectrums"
   ]
  },
  {
   "cell_type": "code",
   "execution_count": 73,
   "metadata": {},
   "outputs": [],
   "source": [
    "def read_xy_file(file_url):\n",
    "    #Open the file with the spectra and read the contents\n",
    "    input_df = pd.read_table(file_url, delimiter=\" \", header=None, names=['m/z', 'intensity'])\n",
    "    return input_df"
   ]
  },
  {
   "cell_type": "code",
   "execution_count": 4,
   "metadata": {},
   "outputs": [],
   "source": [
    "input_data_url = 'Data//XY Data//'\n",
    "output_data_url = 'Data//CSV Data//'\n",
    "final_data_url = 'Data//Final CSV Data//'\n",
    "\n",
    "input_files = sorted(listdir(input_data_url))\n",
    "input_files = [file for file in input_files if file != '.DS_Store']\n",
    "\n",
    "output_files = sorted(listdir(output_data_url))"
   ]
  },
  {
   "cell_type": "code",
   "execution_count": 75,
   "metadata": {
    "tags": []
   },
   "outputs": [
    {
     "name": "stdout",
     "output_type": "stream",
     "text": [
      "c_1.xy\n",
      "c_10.xy\n",
      "c_11.xy\n",
      "c_12.xy\n",
      "c_13.xy\n",
      "c_14_1.xy\n",
      "c_14_2.xy\n",
      "c_15_1.xy\n",
      "c_15_2.xy\n",
      "c_16_1.xy\n",
      "c_16_2.xy\n",
      "c_16_3.xy\n",
      "c_17.xy\n",
      "c_18_1.xy\n",
      "c_18_2.xy\n",
      "c_19_1.xy\n",
      "c_19_2.xy\n",
      "c_19_3.xy\n",
      "c_2.xy\n",
      "c_3_1.xy\n",
      "c_3_2.xy\n",
      "c_4.xy\n",
      "c_5_1.xy\n",
      "c_5_2.xy\n",
      "c_5_3.xy\n",
      "c_6_1.xy\n",
      "c_6_2.xy\n",
      "c_6_3.xy\n",
      "c_7.xy\n",
      "c_8_1.xy\n",
      "c_8_2.xy\n",
      "c_9.xy\n",
      "demo_4.xy\n",
      "o_1_1.xy\n",
      "o_1_2.xy\n",
      "o_1_3.xy\n",
      "o_2.xy\n",
      "o_3_1.xy\n",
      "o_3_2.xy\n",
      "o_4.xy\n",
      "o_5_1.xy\n",
      "o_5_2.xy\n",
      "o_5_3.xy\n",
      "o_6.xy\n",
      "t_1_1.xy\n",
      "t_1_2.xy\n",
      "t_1_3.xy\n",
      "t_1_4.xy\n",
      "t_2.xy\n",
      "t_3.xy\n",
      "t_4_1.xy\n",
      "t_4_2.xy\n",
      "t_5_1.xy\n",
      "t_5_2.xy\n",
      "ub_1_1.xy\n",
      "ub_1_2.xy\n",
      "ub_2.xy\n",
      "ub_3.xy\n",
      "ub_4_1.xy\n",
      "ub_4_2.xy\n",
      "ub_5_1.xy\n",
      "ub_5_2.xy\n"
     ]
    }
   ],
   "source": [
    "#concatenate different spectrums \n",
    "processed_files = []\n",
    "for file in input_files: \n",
    "    print(file)\n",
    "\n",
    "    #check whether spectrum has been processed\n",
    "    if file not in processed_files: \n",
    "\n",
    "        #assess if the spectrum is split into multiple files\n",
    "        #if name contains more than 1 underscore then yes it is split\n",
    "        file_name_split = file.split(\"_\")\n",
    "        split_spectrum = len(file_name_split) > 2\n",
    "        \n",
    "\n",
    "        if split_spectrum:\n",
    "            #find the other files with the same name and process them \n",
    "            pattern = re.compile(\"^\"+file_name_split[0]+\"_\"+file_name_split[1])\n",
    "            matches = [file for file in input_files if pattern.match(file)]\n",
    "            \n",
    "            #load matched spectrums, concatenate together and write out\n",
    "            input_df = pd.DataFrame([])\n",
    "            for file in matches:\n",
    "                if input_df.size == 0:\n",
    "                    input_df = read_xy_file(input_data_url+file)\n",
    "                else: \n",
    "                    df = read_xy_file(input_data_url+file)\n",
    "                    input_df = pd.concat([input_df, df], ignore_index=True)\n",
    "                    \n",
    "                #file has been processed\n",
    "                processed_files.append(file)\n",
    "            \n",
    "            #write out entire spectrum\n",
    "            output_filename = file_name_split[0] + \"_\" + file_name_split[1] + \".csv\"\n",
    "            input_df.to_csv(output_data_url+ output_filename, index=False)\n",
    "\n",
    "        else:\n",
    "            output_filename = file_name_split[0] + \"_\" + file_name_split[1].split(\".\")[0] + \".csv\"\n",
    "\n",
    "            #spectrum is not split so just save it as a csv\n",
    "            input_df = read_xy_file(input_data_url+file)\n",
    "            input_df.to_csv(output_data_url+ output_filename, index=False)\n",
    "\n",
    "            #add file to processed files\n",
    "            processed_files.append(file)"
   ]
  },
  {
   "cell_type": "markdown",
   "metadata": {},
   "source": [
    "### Combine M/Z, intensity pairs that are the same just seperated by time"
   ]
  },
  {
   "cell_type": "code",
   "execution_count": 24,
   "metadata": {},
   "outputs": [
    {
     "name": "stderr",
     "output_type": "stream",
     "text": [
      "\n",
      "KeyboardInterrupt\n",
      "\n"
     ]
    }
   ],
   "source": [
    "intensity = list()\n",
    "\n",
    "for file in output_files: \n",
    "    print(file)\n",
    "    \n",
    "    df = pd.read_csv(output_data_url + file)\n",
    "    #calculate average intensity \n",
    "    unique_mz_values = pd.unique(df['m/z'])\n",
    "    for value in unique_mz_values:\n",
    "        avg_intensity = df[df['m/z'] == value]['intensity'].mean()\n",
    "        intensity.append(avg_intensity)   \n",
    "    \n",
    "    spec_df = pd.DataFrame({'m/z': unique_mz_values,\n",
    "                 'intensity':intensity})\n",
    "    \n",
    "    spec_df.to_csv(final_data_url+file, index=False)"
   ]
  },
  {
   "cell_type": "code",
   "execution_count": 23,
   "metadata": {},
   "outputs": [
    {
     "data": {
      "text/plain": [
       "'c_1.csv'"
      ]
     },
     "execution_count": 23,
     "metadata": {},
     "output_type": "execute_result"
    }
   ],
   "source": [
    "file"
   ]
  },
  {
   "cell_type": "code",
   "execution_count": null,
   "metadata": {},
   "outputs": [],
   "source": []
  }
 ],
 "metadata": {
  "kernelspec": {
   "display_name": "Python 3",
   "language": "python",
   "name": "python3"
  },
  "language_info": {
   "codemirror_mode": {
    "name": "ipython",
    "version": 3
   },
   "file_extension": ".py",
   "mimetype": "text/x-python",
   "name": "python",
   "nbconvert_exporter": "python",
   "pygments_lexer": "ipython3",
   "version": "3.8.2"
  }
 },
 "nbformat": 4,
 "nbformat_minor": 4
}
