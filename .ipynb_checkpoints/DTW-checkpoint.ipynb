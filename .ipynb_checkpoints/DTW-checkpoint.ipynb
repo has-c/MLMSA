{
 "cells": [
  {
   "cell_type": "code",
   "execution_count": 61,
   "metadata": {},
   "outputs": [],
   "source": [
    "from os import listdir\n",
    "import matplotlib.pyplot as plt\n",
    "import pandas as pd\n",
    "import re\n",
    "from fastdtw import fastdtw\n",
    "from scipy.spatial import distance\n",
    "import pyopenms\n",
    "from operator import itemgetter\n",
    "from scipy.spatial.distance import euclidean\n",
    "%matplotlib inline\n",
    "import numpy as np"
   ]
  },
  {
   "cell_type": "code",
   "execution_count": 21,
   "metadata": {},
   "outputs": [],
   "source": [
    "#Combines several spectra (separated by time) into a single overall spectrum for that experiment\n",
    "def sum_spectra(spectra):\n",
    "    summed_peaks = {}\n",
    "    for spectrum in spectra:\n",
    "        mz, intensity = spectrum.get_peaks()\n",
    "        for i in range(len(mz)):\n",
    "            current_mz = mz[i]\n",
    "            current_intensity = intensity[i]\n",
    "            #This accounts for duplicate peak entries with the same m/z value (and adds their intensities together)\n",
    "            if current_mz in summed_peaks:\n",
    "                summed_peaks[current_mz] += current_intensity\n",
    "            else:\n",
    "                summed_peaks[current_mz] = current_intensity\n",
    "    return(summed_peaks)\n",
    "\n",
    "#Returns a dictionary of peaks obtained by subtracting the peaks of the unbound spectrum (Ub) away from the peaks of the bound spectrum (Ub + either C, O, or T)\n",
    "def get_difference(bound, unbound):\n",
    "    bound_peaks = {}\n",
    "    unbound_peaks = {}\n",
    "    difference_peaks = {}\n",
    "    for mz, intensity in bound.items():\n",
    "        if mz in bound_peaks:\n",
    "            bound_peaks[mz] += intensity\n",
    "        else:\n",
    "            bound_peaks[mz] = intensity\n",
    "    for mz, intensity in unbound.items():\n",
    "        if mz in unbound_peaks:\n",
    "            unbound_peaks[mz] += intensity\n",
    "        else:\n",
    "            unbound_peaks[mz] = intensity\n",
    "    #The values in both spectra are normalized by dividing by the maximum value, so the maximum intensity is set to 1\n",
    "    bound_max = max(bound_peaks.values())\n",
    "    unbound_max = max(unbound_peaks.values())\n",
    "    for mz, i in bound_peaks.items():\n",
    "        difference_peaks[mz] = i / bound_max\n",
    "    for mz, i in unbound_peaks.items():\n",
    "        if mz in difference_peaks:\n",
    "            difference_peaks[mz] -= i / unbound_max\n",
    "        else:\n",
    "            difference_peaks[mz] = -i / unbound_max\n",
    "    return(difference_peaks)\n",
    "\n",
    "#Finds the closest peak (in the theoretical spectrum) for a given peak in the difference spectrum\n",
    "def find_closest(peak):\n",
    "    #If the m/z of the given peak is lower than any in the theoretical spectrum, return the peak with the lowest m/z in the theoretical spectrum\n",
    "    if peak[0] < theoretical[0][0]:\n",
    "        return(theoretical[0])\n",
    "    #If the m/z of the given peak is higher than any in the theoretical spectrum, return the peak with the highest m/z in the theoretical spectrum\n",
    "    elif peak[0] > theoretical[-1][0]:\n",
    "        return(theoretical[-1])\n",
    "    else:\n",
    "        left = 0\n",
    "        right = 0\n",
    "        index = 0\n",
    "        #Find the closest peak on either side of the given peak\n",
    "        while left == 0 :\n",
    "            current = theoretical[index]\n",
    "            if current[0] == peak[0]:\n",
    "                return(current)\n",
    "            elif current[0] > peak[0]:\n",
    "                right = current\n",
    "                left = theoretical[index - 1]\n",
    "            index += 1\n",
    "        #Return the peak on the side that is closer to the one given\n",
    "        left_closer = peak[0] - left[0] < right[0] - peak[0]\n",
    "        if left_closer:\n",
    "            return(left)\n",
    "        else:\n",
    "            return(right)"
   ]
  },
  {
   "cell_type": "markdown",
   "metadata": {},
   "source": [
    "## Main"
   ]
  },
  {
   "cell_type": "code",
   "execution_count": 8,
   "metadata": {},
   "outputs": [],
   "source": [
    "#extract files\n",
    "input_data_url = 'Data//CSV Data//'\n",
    "input_files = sorted(listdir(input_data_url))\n",
    "input_files = [file for file in input_files if file not in ['.DS_Store', 'demo_4.csv']]\n",
    "\n",
    "#unbound/bound files\n",
    "unbound_pattern = re.compile(\"u\")\n",
    "unbound_file_matches = [file for file in input_files if unbound_pattern.match(file)] \n",
    "bound_file_matches = [file for file in input_files if file not in unbound_file_matches]"
   ]
  },
  {
   "cell_type": "code",
   "execution_count": 9,
   "metadata": {},
   "outputs": [],
   "source": [
    "#Open the file with the spectra and read the contents\n",
    "unbound_df = pd.read_csv(\"Data//CSV Data//ub_1.csv\")\n",
    "bound_df = pd.read_csv(\"Data//CSV Data//c_1.csv\")"
   ]
  },
  {
   "cell_type": "code",
   "execution_count": 23,
   "metadata": {},
   "outputs": [],
   "source": [
    "#EXPERIMENTAL DATA\n",
    "\n",
    "#extract bound and unbound m/z and intensity\n",
    "bound_mz = list(bound_df['m/z'].values)\n",
    "bound_intensity = list(bound_df['intensity'].values)\n",
    "unbound_mz = list(unbound_df['m/z'].values)\n",
    "unbound_intensity = list(unbound_df['intensity'].values)\n",
    "\n",
    "#Create experiments\n",
    "bound_exp = pyopenms.MSExperiment()\n",
    "bound_spectrum = pyopenms.MSSpectrum()\n",
    "unbound_exp = pyopenms.MSExperiment()\n",
    "unbound_spectrum = pyopenms.MSSpectrum()\n",
    "\n",
    "#Update the experiment with the bound or unbound data, then store it in a file\n",
    "unbound_spectrum.set_peaks([unbound_mz, unbound_intensity])\n",
    "unbound_exp.setSpectra([unbound_spectrum])\n",
    "bound_spectrum.set_peaks([bound_mz, bound_intensity])\n",
    "bound_exp.setSpectra([bound_spectrum])\n",
    "\n",
    "#combine spectrum\n",
    "bound_spectrum = sum_spectra(bound_exp.getSpectra())\n",
    "unbound_spectrum = sum_spectra(unbound_exp.getSpectra())\n",
    "\n",
    "#In theory, subtracting the unbound spectrum from the bound spectrum should return the effects of the binding with the platin\n",
    "binding_effect = get_difference(bound_spectrum, unbound_spectrum)"
   ]
  },
  {
   "cell_type": "code",
   "execution_count": 128,
   "metadata": {},
   "outputs": [],
   "source": [
    "#Stores the peaks of the difference spectrum in a list of [m/z, i] items\n",
    "difference = []\n",
    "for mz, i in binding_effect.items():\n",
    "    if i < 0:\n",
    "        difference.append([mz,-i])\n",
    "        \n",
    "#Sort the difference spectrum by intensity values from largest to smallest\n",
    "filtered_difference = np.array(sorted(difference, key=itemgetter(1), reverse=True))"
   ]
  },
  {
   "cell_type": "code",
   "execution_count": 129,
   "metadata": {},
   "outputs": [],
   "source": [
    "len_t = len(theoretical)\n",
    "filtered_difference = filtered_difference[:len_t]"
   ]
  },
  {
   "cell_type": "code",
   "execution_count": 131,
   "metadata": {},
   "outputs": [],
   "source": [
    "mz = [element[0] for element in filtered_difference]\n",
    "intensity = [element[1] for element in filtered_difference]"
   ]
  },
  {
   "cell_type": "code",
   "execution_count": 132,
   "metadata": {},
   "outputs": [],
   "source": [
    "difference_spectrum = pyopenms.MSSpectrum()\n",
    "difference_spectrum.set_peaks([mz, intensity])"
   ]
  },
  {
   "cell_type": "code",
   "execution_count": 133,
   "metadata": {},
   "outputs": [
    {
     "data": {
      "image/png": "[encoded data removed]",
      "text/plain": [
       "<Figure size 432x288 with 1 Axes>"
      ]
     },
     "metadata": {
      "needs_background": "light"
     },
     "output_type": "display_data"
    }
   ],
   "source": [
    "pyopenms.Plot.plotSpectrum(difference_spectrum)"
   ]
  },
  {
   "cell_type": "code",
   "execution_count": 112,
   "metadata": {},
   "outputs": [],
   "source": [
    "#THEORETICAL DATA\n",
    "\n",
    "#Convert the string representation of Ubiquitin into an amino acid sequence object\n",
    "ubiquitin = pyopenms.AASequence.fromString(\"MQIFVKTLTGKTITLEVEPSDTIENVKAKIQDKEGIPPDQQRLIFAGKQLEDGRTLSDYNIQKESTLHLVLRLRGG\")\n",
    "tsg = pyopenms.TheoreticalSpectrumGenerator()\n",
    "spectrum = pyopenms.MSSpectrum()\n",
    "#Initialise parameters object and set the values for parameters\n",
    "#To change which parameters are set to true (false is default), specific lines can be commented out and vice versa\n",
    "parameters = pyopenms.Param()\n",
    "parameters.setValue(b\"add_isotopes\", b\"true\", \"\")\n",
    "#parameters.setValue(b\"add_losses\", b\"true\", \"\")\n",
    "parameters.setValue(b\"add_b_ions\", b\"true\", \"\")\n",
    "parameters.setValue(b\"add_y_ions\", b\"true\", \"\")\n",
    "parameters.setValue(b\"add_a_ions\", b\"true\", \"\")\n",
    "parameters.setValue(b\"add_c_ions\", b\"true\", \"\")\n",
    "parameters.setValue(b\"add_x_ions\", b\"true\", \"\")\n",
    "parameters.setValue(b\"add_z_ions\", b\"true\", \"\")\n",
    "#parameters.setValue(b\"add_precursor_peaks\", b\"true\", \"\")\n",
    "#parameters.setValue(b\"add_all_precursor_charges\", b\"true\", \"\")\n",
    "#parameters.setValue(b\"add_first_prefix_ion\", b\"true\", \"\")\n",
    "parameters.setValue(b\"add_metainfo\", b\"true\", \"\")\n",
    "tsg.setParameters(parameters)\n",
    "#Generate the theoretical spectrum of Ubiquitin\n",
    "tsg.getSpectrum(spectrum, ubiquitin, 1, 2)"
   ]
  },
  {
   "cell_type": "code",
   "execution_count": 126,
   "metadata": {},
   "outputs": [],
   "source": [
    "#The theoretical spectrum is converted from a pair of lists to a single list of [m/z, i] items\n",
    "theoretical = []\n",
    "theoretical_dict = {}\n",
    "for i in range(len(spectrum.get_peaks()[0])):\n",
    "    current_mz = spectrum.get_peaks()[0][i]\n",
    "    current_intensity = spectrum.get_peaks()[1][i]\n",
    "    theoretical.append([current_mz, current_intensity])\n",
    "    theoretical_dict[current_mz] = current_intensity\n",
    "    \n",
    "theoretical = np.array(theoretical)"
   ]
  },
  {
   "cell_type": "code",
   "execution_count": 120,
   "metadata": {},
   "outputs": [
    {
     "data": {
      "image/png": "[encoded data removed]",
      "text/plain": [
       "<Figure size 432x288 with 1 Axes>"
      ]
     },
     "metadata": {
      "needs_background": "light"
     },
     "output_type": "display_data"
    }
   ],
   "source": [
    "pyopenms.Plot.plotSpectrum(spectrum)"
   ]
  },
  {
   "cell_type": "code",
   "execution_count": 32,
   "metadata": {},
   "outputs": [],
   "source": [
    "#Stores the peaks of the difference spectrum in a list of [m/z, i] items\n",
    "difference = []\n",
    "for mz, i in binding_effect.items():\n",
    "    if i < 0:\n",
    "        difference.append([mz,-i])\n",
    "        \n",
    "#Sort the difference spectrum by intensity values from largest to smallest\n",
    "difference = np.array(sorted(difference, key=itemgetter(1), reverse=True))"
   ]
  },
  {
   "cell_type": "code",
   "execution_count": 83,
   "metadata": {},
   "outputs": [],
   "source": [
    "#fast dtw\n",
    "distance, path = fastdtw(difference, theoretical,dist=euclidean)"
   ]
  },
  {
   "cell_type": "code",
   "execution_count": 91,
   "metadata": {},
   "outputs": [],
   "source": [
    "#extract paths\n",
    "path_0 = np.array([element[0] for element in path])\n",
    "path_1 = np.array([element[1] for element in path])"
   ]
  },
  {
   "cell_type": "code",
   "execution_count": 93,
   "metadata": {},
   "outputs": [],
   "source": [
    "dtw_difference = difference[path_0]\n",
    "dtw_theoretical = theoretical[path_1]"
   ]
  },
  {
   "cell_type": "code",
   "execution_count": 96,
   "metadata": {},
   "outputs": [],
   "source": [
    "mz_difference = np.array([instance[0] for instance in dtw_difference])\n",
    "intensity_difference = np.array([instance[1] for instance in dtw_difference])\n",
    "\n",
    "mz_theoretical = np.array([instance[0] for instance in dtw_theoretical])\n",
    "intensity_theoretical = np.array([instance[1] for instance in dtw_theoretical])"
   ]
  },
  {
   "cell_type": "code",
   "execution_count": 98,
   "metadata": {},
   "outputs": [
    {
     "data": {
      "text/plain": [
       "<matplotlib.collections.PathCollection at 0x27f313ecac0>"
      ]
     },
     "execution_count": 98,
     "metadata": {},
     "output_type": "execute_result"
    },
    {
     "data": {
      "image/png": "[encoded data removed]",
      "text/plain": [
       "<Figure size 432x288 with 1 Axes>"
      ]
     },
     "metadata": {
      "needs_background": "light"
     },
     "output_type": "display_data"
    }
   ],
   "source": [
    "#plot \n",
    "plt.scatter(mz_difference,intensity_difference)\n",
    "plt.scatter(mz_theoretical,intensity_theoretical)"
   ]
  },
  {
   "cell_type": "code",
   "execution_count": null,
   "metadata": {},
   "outputs": [],
   "source": []
  }
 ],
 "metadata": {
  "kernelspec": {
   "display_name": "Python 3",
   "language": "python",
   "name": "python3"
  },
  "language_info": {
   "codemirror_mode": {
    "name": "ipython",
    "version": 3
   },
   "file_extension": ".py",
   "mimetype": "text/x-python",
   "name": "python",
   "nbconvert_exporter": "python",
   "pygments_lexer": "ipython3",
   "version": "3.8.2"
  }
 },
 "nbformat": 4,
 "nbformat_minor": 4
}
