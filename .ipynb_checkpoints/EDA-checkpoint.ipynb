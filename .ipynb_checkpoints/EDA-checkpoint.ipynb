{
 "cells": [
  {
   "cell_type": "code",
   "execution_count": 29,
   "metadata": {},
   "outputs": [],
   "source": [
    "from os import listdir\n",
    "import matplotlib.pyplot as plt\n",
    "\n",
    "%matplotlib inline"
   ]
  },
  {
   "cell_type": "code",
   "execution_count": 8,
   "metadata": {},
   "outputs": [],
   "source": [
    "base_url = 'Sample data//'\n",
    "test_url = base_url + 'o_1_1.xy'"
   ]
  },
  {
   "cell_type": "code",
   "execution_count": 45,
   "metadata": {},
   "outputs": [],
   "source": [
    "#Open the file with the spectra and read the contents\n",
    "input_file = open(test_url, \"r\")\n",
    "input_lines = input_file.readlines()\n",
    "input_file.close()"
   ]
  },
  {
   "cell_type": "code",
   "execution_count": 51,
   "metadata": {},
   "outputs": [],
   "source": [
    "#clean data\n",
    "data = remove_html(input_lines)\n",
    "\n",
    "#final data contains lines \n",
    "#each lines contains an m/z and an intensity "
   ]
  },
  {
   "cell_type": "code",
   "execution_count": 58,
   "metadata": {},
   "outputs": [],
   "source": [
    "#m/z concatentation\n",
    "peaks_dict = mass_charge_concatenation(data)"
   ]
  },
  {
   "cell_type": "code",
   "execution_count": 53,
   "metadata": {},
   "outputs": [],
   "source": [
    "#normalise peaks\n",
    "peaks, mass_charges = normalise(peaks_dict)"
   ]
  },
  {
   "cell_type": "code",
   "execution_count": null,
   "metadata": {},
   "outputs": [],
   "source": []
  },
  {
   "cell_type": "code",
   "execution_count": 49,
   "metadata": {},
   "outputs": [
    {
     "data": {
      "image/png": "[encoded data removed]",
      "text/plain": [
       "<Figure size 432x288 with 1 Axes>"
      ]
     },
     "metadata": {
      "needs_background": "light"
     },
     "output_type": "display_data"
    }
   ],
   "source": [
    "plot_spectrum(peaks, mass_charges)"
   ]
  },
  {
   "cell_type": "markdown",
   "metadata": {},
   "source": [
    "### Helper Functions"
   ]
  },
  {
   "cell_type": "code",
   "execution_count": 61,
   "metadata": {},
   "outputs": [],
   "source": [
    "#remove line break characters from the plain text\n",
    "def remove_html(data):\n",
    "    return [data[idx][0:-1] if data[idx][-1] == '\\n' else data[idx] for idx in range(len(data))]"
   ]
  },
  {
   "cell_type": "code",
   "execution_count": 62,
   "metadata": {},
   "outputs": [],
   "source": [
    "def mass_charge_concatenation(data):\n",
    "    \n",
    "    #Initialise a dictionary to store the peaks\n",
    "    peaks_dict = {}\n",
    "    #Process each line of the text file and store the data in the dictionary\n",
    "    for line in data:\n",
    "        current_mz, current_intensity = line.split()\n",
    "        current_mz = float(current_mz)\n",
    "        current_intensity = float(current_intensity)\n",
    "        #Multiple peaks with the same m/z are present (usually separated by time) then sum them and if not \n",
    "        #create new peak\n",
    "        if current_mz in peaks_dict.keys():\n",
    "            peaks_dict[current_mz] += current_intensity\n",
    "        else:\n",
    "            peaks_dict[current_mz] = current_intensity\n",
    "            \n",
    "    return peaks_dict"
   ]
  },
  {
   "cell_type": "code",
   "execution_count": 63,
   "metadata": {},
   "outputs": [],
   "source": [
    "def normalise(peaks_dict):\n",
    "    peaks_list = []\n",
    "    mass_charge_list = []\n",
    "    #The intensity value of each peak is divided by the maximum intensity value\n",
    "    #to normalise the data with the max at i = 1\n",
    "    max_i = max(peaks_dict.values())\n",
    "    for mz, intensity in peaks_dict.items():\n",
    "        peaks_list.append([intensity / max_i])\n",
    "        mass_charge_list.append(mz)\n",
    "    return peaks_list,mass_charge_list"
   ]
  },
  {
   "cell_type": "code",
   "execution_count": 64,
   "metadata": {},
   "outputs": [],
   "source": [
    "def plot_spectrum(peaks, mass_charges):\n",
    "    plt.plot(mass_charges, peaks)"
   ]
  },
  {
   "cell_type": "code",
   "execution_count": null,
   "metadata": {},
   "outputs": [],
   "source": []
  },
  {
   "cell_type": "code",
   "execution_count": null,
   "metadata": {},
   "outputs": [],
   "source": []
  }
 ],
 "metadata": {
  "kernelspec": {
   "display_name": "Python 3",
   "language": "python",
   "name": "python3"
  },
  "language_info": {
   "codemirror_mode": {
    "name": "ipython",
    "version": 3
   },
   "file_extension": ".py",
   "mimetype": "text/x-python",
   "name": "python",
   "nbconvert_exporter": "python",
   "pygments_lexer": "ipython3",
   "version": "3.8.2"
  }
 },
 "nbformat": 4,
 "nbformat_minor": 4
}
