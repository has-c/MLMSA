{
 "cells": [
  {
   "cell_type": "markdown",
   "metadata": {},
   "source": [
    "# EDA\n",
    "\n",
    "Plot spectrums to pdf to examine"
   ]
  },
  {
   "cell_type": "code",
   "execution_count": 2,
   "metadata": {},
   "outputs": [],
   "source": [
    "from os import listdir\n",
    "import matplotlib.pyplot as plt\n",
    "import pandas as pd\n",
    "from matplotlib.backends.backend_pdf import PdfPages\n",
    "import numpy as np"
   ]
  },
  {
   "cell_type": "code",
   "execution_count": 3,
   "metadata": {},
   "outputs": [],
   "source": [
    "def normalise(intensity):\n",
    "    normalised_intensity = []\n",
    "    #The intensity value of each peak is divided by the maximum intensity value, to normalise the data with the max at i = 1\n",
    "    max_i = max(intensity)\n",
    "    for value in intensity:\n",
    "        normalised_intensity.append(value / max_i)\n",
    "        \n",
    "    return normalised_intensity"
   ]
  },
  {
   "cell_type": "code",
   "execution_count": 4,
   "metadata": {},
   "outputs": [],
   "source": [
    "input_data_url = 'Data//Final CSV Data//'\n",
    "input_files = sorted(listdir(input_data_url))\n",
    "input_files = [file for file in input_files if file not in ['.DS_Store', 'demo_4.csv']]"
   ]
  },
  {
   "cell_type": "markdown",
   "metadata": {},
   "source": [
    "### Write spectrums to file\n",
    "\n",
    "This allows us to assess them for validity"
   ]
  },
  {
   "cell_type": "code",
   "execution_count": 5,
   "metadata": {},
   "outputs": [],
   "source": [
    "def plotGraph(X,Y, file):\n",
    "    fig = plt.figure()\n",
    "    plt.scatter(X, Y)\n",
    "    plt.title(file)\n",
    "    return fig"
   ]
  },
  {
   "cell_type": "code",
   "execution_count": null,
   "metadata": {},
   "outputs": [],
   "source": [
    "pp = PdfPages('Spectrums.pdf')\n",
    "for file in input_files:\n",
    "    \n",
    "    df = pd.read_csv(input_data_url+file)\n",
    "    #normalise intensity\n",
    "    normalised_intensity = normalise(df['intensity'])\n",
    "    df[\"normalised_intensity\"] = normalised_intensity\n",
    "    \n",
    "    #filter out everything about m/z 10000\n",
    "    filtered_df = df[df['m/z'] <= 10000]\n",
    "    #plot\n",
    "    plot = plotGraph(filtered_df['m/z'], filtered_df['normalised_intensity'], file)\n",
    "    #save plot to pdf\n",
    "    pp.savefig(plot)\n",
    "    \n",
    "#close pdf at end\n",
    "pp.close()  "
   ]
  }
 ],
 "metadata": {
  "kernelspec": {
   "display_name": "Python 3",
   "language": "python",
   "name": "python3"
  },
  "language_info": {
   "codemirror_mode": {
    "name": "ipython",
    "version": 3
   },
   "file_extension": ".py",
   "mimetype": "text/x-python",
   "name": "python",
   "nbconvert_exporter": "python",
   "pygments_lexer": "ipython3",
   "version": "3.8.2"
  }
 },
 "nbformat": 4,
 "nbformat_minor": 4
}
