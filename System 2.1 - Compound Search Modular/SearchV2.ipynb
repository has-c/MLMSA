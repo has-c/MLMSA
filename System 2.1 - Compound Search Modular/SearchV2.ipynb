{
 "metadata": {
  "language_info": {
   "codemirror_mode": {
    "name": "ipython",
    "version": 3
   },
   "file_extension": ".py",
   "mimetype": "text/x-python",
   "name": "python",
   "nbconvert_exporter": "python",
   "pygments_lexer": "ipython3",
   "version": "3.8.2-final"
  },
  "orig_nbformat": 2,
  "kernelspec": {
   "name": "python38264bit7584c91ca25943e3bf1b09e04ce8af7b",
   "display_name": "Python 3.8.2 64-bit"
  }
 },
 "nbformat": 4,
 "nbformat_minor": 2,
 "cells": [
  {
   "cell_type": "code",
   "execution_count": 2,
   "metadata": {},
   "outputs": [],
   "source": [
    "import pandas as pd \n",
    "import numpy as np\n",
    "from os import listdir\n",
    "from itertools import combinations, product  \n",
    "from scipy.signal import find_peaks \n",
    "import matplotlib.pyplot as plt\n",
    "from sklearn.preprocessing import MinMaxScaler \n",
    "from tqdm import tqdm\n",
    "\n",
    "%matplotlib inline\n",
    "\n",
    "from Binding_Site_Search import search"
   ]
  },
  {
   "cell_type": "code",
   "execution_count": 4,
   "metadata": {},
   "outputs": [],
   "source": [
    "data_read_path = \"..//Data//\"\n",
    "compound_list_path = data_read_path + \"Compound Constraints//\"\n",
    "spectra_path = data_read_path + \"Deconvoluted Spectra//\"\n",
    "spectra_files = listdir(spectra_path)\n",
    "compounds_files = listdir(compound_list_path)\n",
    "\n",
    "bound_file_path = spectra_path+spectra_files[0]\n",
    "unbound_file_path = spectra_path+spectra_files[1]\n",
    "compounds_file_path = compound_list_path+compounds_files[1]"
   ]
  },
  {
   "cell_type": "code",
   "execution_count": 5,
   "metadata": {},
   "outputs": [
    {
     "output_type": "stream",
     "name": "stdout",
     "text": [
      "..//Data//Deconvoluted Spectra//Ubiquitin_plusC_1in100_000001.xlsx\n..//Data//Deconvoluted Spectra//Ubi_1in100_broad band_000001.xlsx\n..//Data//Compound Constraints//Compounds_CisOxTrans.xlsx\n"
     ]
    }
   ],
   "source": [
    "print(bound_file_path)\n",
    "print(unbound_file_path)\n",
    "print(compounds_file_path)"
   ]
  },
  {
   "cell_type": "code",
   "execution_count": 6,
   "metadata": {},
   "outputs": [],
   "source": [
    "binding_site_df = search(bound_file_path, unbound_file_path, compounds_file_path)"
   ]
  }
 ]
}