{
 "metadata": {
  "language_info": {
   "codemirror_mode": {
    "name": "ipython",
    "version": 3
   },
   "file_extension": ".py",
   "mimetype": "text/x-python",
   "name": "python",
   "nbconvert_exporter": "python",
   "pygments_lexer": "ipython3",
   "version": "3.8.5-final"
  },
  "orig_nbformat": 2,
  "kernelspec": {
   "name": "python38564bitmsenvvenvf97236e34f3c42f2a87c57380f0b8047",
   "display_name": "Python 3.8.5 64-bit ('msenv': venv)"
  }
 },
 "nbformat": 4,
 "nbformat_minor": 2,
 "cells": [
  {
   "cell_type": "code",
   "execution_count": 22,
   "metadata": {},
   "outputs": [],
   "source": [
    "import pandas as pd\n",
    "import pyopenms as ms\n",
    "import glob\n",
    "import "
   ]
  },
  {
   "cell_type": "code",
   "execution_count": 2,
   "metadata": {},
   "outputs": [],
   "source": [
    "data_base_url = \"..//Data//\"\n",
    "xy_data_url = \"XY Data//\"\n",
    "csv_data_url = \"CSV Data//\""
   ]
  },
  {
   "cell_type": "markdown",
   "metadata": {},
   "source": [
    "## Helper Functions"
   ]
  },
  {
   "cell_type": "code",
   "execution_count": 40,
   "metadata": {},
   "outputs": [],
   "source": [
    "#Combines several spectra (separated by time) into a single overall spectrum for that experiment\n",
    "def combine_intensities(df):\n",
    "\n",
    "    spectrum = {}\n",
    "    transformed_df = pd.DataFrame([])\n",
    "    for mass_charge_value in df['m/z']:\n",
    "        avg_intensity = df['intensity'][df['m/z'] == mass_charge_value].mean()\n",
    "        spectrum[mass_charge_value] = avg_intensity\n",
    "\n",
    "    transformed_df['m/z'] = spectrum.keys()\n",
    "    transformed_df['intensity'] = spectrum.values()\n",
    "\n",
    "    return transformed_df"
   ]
  },
  {
   "cell_type": "markdown",
   "metadata": {},
   "source": [
    "## Check the multiple spectrum files"
   ]
  },
  {
   "cell_type": "code",
   "execution_count": 36,
   "metadata": {},
   "outputs": [],
   "source": [
    "#get the paths of the files\n",
    "specific_files_csv = glob.glob(data_base_url+csv_data_url+\"ub_*\")\n",
    "\n",
    "#grab a specific ub df\n",
    "ub_df = pd.read_csv(specific_files_csv[0])"
   ]
  },
  {
   "cell_type": "code",
   "execution_count": 42,
   "metadata": {},
   "outputs": [],
   "source": []
  },
  {
   "cell_type": "code",
   "execution_count": 48,
   "metadata": {
    "tags": []
   },
   "outputs": [],
   "source": [
    "spectrum = {}\n",
    "transformed_df = pd.DataFrame([])\n",
    "for mass_charge_value in df['m/z']:\n",
    "    avg_intensity = df['intensity'][df['m/z'] == mass_charge_value].mean()\n",
    "    spectrum[mass_charge_value] = avg_intensity\n",
    "\n",
    "transformed_df['m/z'] = spectrum.keys()\n",
    "transformed_df['intensity'] = spectrum.values()"
   ]
  },
  {
   "cell_type": "code",
   "execution_count": null,
   "metadata": {},
   "outputs": [],
   "source": []
  },
  {
   "cell_type": "code",
   "execution_count": 50,
   "metadata": {},
   "outputs": [
    {
     "output_type": "execute_result",
     "data": {
      "text/plain": "11471.701818181818"
     },
     "metadata": {},
     "execution_count": 50
    }
   ],
   "source": [
    "df['intensity'][df['m/z'] == mass_charge_value].mean()"
   ]
  },
  {
   "cell_type": "code",
   "execution_count": 23,
   "metadata": {},
   "outputs": [],
   "source": [
    "#Create an experiment to store the bound data\n",
    "bound_exp = ms.MSExperiment()\n",
    "bound_spectrum = ms.MSSpectrum()\n",
    "\n",
    "#Update the experiment with the data, then store it in a file\n",
    "bound_spectrum.set_peaks([bound_mz, bound_intensity])\n",
    "bound_exp.setSpectra([bound_spectrum])"
   ]
  },
  {
   "cell_type": "code",
   "execution_count": 18,
   "metadata": {},
   "outputs": [
    {
     "output_type": "execute_result",
     "data": {
      "text/plain": "(983020, 2)"
     },
     "metadata": {},
     "execution_count": 18
    }
   ],
   "source": []
  },
  {
   "cell_type": "code",
   "execution_count": null,
   "metadata": {},
   "outputs": [],
   "source": []
  }
 ]
}