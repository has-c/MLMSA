{
 "metadata": {
  "language_info": {
   "codemirror_mode": {
    "name": "ipython",
    "version": 3
   },
   "file_extension": ".py",
   "mimetype": "text/x-python",
   "name": "python",
   "nbconvert_exporter": "python",
   "pygments_lexer": "ipython3",
   "version": "3.8.6-final"
  },
  "orig_nbformat": 2,
  "kernelspec": {
   "name": "python3",
   "display_name": "Python 3.8.6 64-bit ('msenv': venv)",
   "metadata": {
    "interpreter": {
     "hash": "9e9a6b1173e2f90e266027f3ae62e6ffbb2c1a5c66762eb6ec0ef6fd0c3835d9"
    }
   }
  }
 },
 "nbformat": 4,
 "nbformat_minor": 2,
 "cells": [
  {
   "source": [
    "# BIRCH - Binding Site Search\n",
    "\n",
    "### Stages of core algorithm\n",
    "\n",
    "1. Peak search \n",
    "2. Generate theoretical binding sites\n",
    "3. Match peaks to list\n",
    "4. Filter list using rules"
   ],
   "cell_type": "markdown",
   "metadata": {}
  },
  {
   "cell_type": "code",
   "execution_count": 1,
   "metadata": {},
   "outputs": [],
   "source": [
    "import pandas as pd\n",
    "import numpy as np \n",
    "from scipy.signal import find_peaks \n",
    "from sklearn.preprocessing import MinMaxScaler\n",
    "from tqdm import tqdm\n",
    "from os import listdir\n",
    "from itertools import *"
   ]
  },
  {
   "source": [
    "## Config Parameters"
   ],
   "cell_type": "markdown",
   "metadata": {}
  },
  {
   "cell_type": "code",
   "execution_count": 2,
   "metadata": {},
   "outputs": [],
   "source": [
    "tolerance = 0.5 #0.5 Da\n",
    "\n",
    "#subscript for formatting of chemistry strings\n",
    "sub = str.maketrans(\"0123456789\", \"₀₁₂₃₄₅₆₇₈₉\")"
   ]
  },
  {
   "source": [
    "## Import Data"
   ],
   "cell_type": "markdown",
   "metadata": {}
  },
  {
   "cell_type": "code",
   "execution_count": 3,
   "metadata": {},
   "outputs": [
    {
     "output_type": "stream",
     "name": "stdout",
     "text": [
      "bound:  Ubiquitin_plusC_1in100_000001.xlsx\ncompounds:  Compounds_CisOxTrans.xlsx\n"
     ]
    }
   ],
   "source": [
    "input_data_path = \"..//Data//\"\n",
    "compound_list_path = input_data_path + \"Compound Constraints//\"\n",
    "spectra_path = input_data_path + \"Deconvoluted Spectra//\"\n",
    "\n",
    "#read in data\n",
    "spectra_files = listdir(spectra_path)\n",
    "bound_df = pd.read_excel(spectra_path+spectra_files[0])\n",
    "unbound_df = pd.read_excel(spectra_path+spectra_files[1])\n",
    "\n",
    "compounds_files = listdir(compound_list_path)\n",
    "compounds_df = pd.read_excel(compound_list_path+compounds_files[1])\n",
    "\n",
    "print(\"bound: \", spectra_files[0])\n",
    "print(\"compounds: \", compounds_files[1])"
   ]
  },
  {
   "source": [
    "## Create Binding List\n",
    "\n",
    "Purpose: Create theoretical list of possible combinations of drug bindings\n",
    "\n",
    "Define chemical combinations as trees where:\n",
    "<ol>\n",
    "    <li> The root node is the primary reactant </li>\n",
    "    <li> The nodes on the 1st level are the permutations of the secondary reactant as given by the min/max numbers </li>\n",
    "    <li> The nodes on each level after that are the permutations of the other reactants as given by the min/max numbers </li>\n",
    "</ol>"
   ],
   "cell_type": "markdown",
   "metadata": {}
  },
  {
   "cell_type": "code",
   "execution_count": 18,
   "metadata": {},
   "outputs": [],
   "source": [
    "#create forest of trees \n",
    "attributes_list = [\"Mass\", \"Min\", \"Max\"]\n",
    "\n",
    "#split into the 3 different types of reactants\n",
    "primary_reactant_df = compounds_df[compounds_df[\"Primary\"] == \"Yes\"]\n",
    "secondary_reactant_df = compounds_df[compounds_df[\"Secondary\"] == \"Yes\"]\n",
    "other_reactants_df = compounds_df[(compounds_df[\"Primary\"] != \"Yes\") & (compounds_df[\"Secondary\"] != \"Yes\")]\n",
    "\n",
    "#the number of trees in the forest correspond to the avaliability (max-min+1) of the primary reactant\n",
    "number_of_trees = primary_reactant_df[\"Max\"] - primary_reactant_df[\"Min\"] + 1\n",
    "forest = [[] for i in range(number_of_trees.values[0])]\n",
    "\n",
    "#root nodes - primary reactant\n",
    "for tree_idx in range(1,number_of_trees.values[0]+1):\n",
    "    #perform list comprehension without creating a list\n",
    "    root_id = str(tree_idx) + primary_reactant_df[\"Name\"].values[0]\n",
    "    forest.append({root_id: primary_reactant_df[attributes_list]})\n",
    "\n",
    "#secondary reactant\n",
    "for tree_idx in range(1, )"
   ]
  },
  {
   "cell_type": "code",
   "execution_count": null,
   "metadata": {},
   "outputs": [],
   "source": []
  }
 ]
}