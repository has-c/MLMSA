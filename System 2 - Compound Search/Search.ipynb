{
 "metadata": {
  "language_info": {
   "codemirror_mode": {
    "name": "ipython",
    "version": 3
   },
   "file_extension": ".py",
   "mimetype": "text/x-python",
   "name": "python",
   "nbconvert_exporter": "python",
   "pygments_lexer": "ipython3",
   "version": "3.8.2-final"
  },
  "orig_nbformat": 2,
  "kernelspec": {
   "name": "Python 3.8.2 64-bit",
   "display_name": "Python 3.8.2 64-bit",
   "metadata": {
    "interpreter": {
     "hash": "2db524e06e9f5f4ffedc911c917cb75e12dbc923643829bf417064a77eb14d37"
    }
   }
  }
 },
 "nbformat": 4,
 "nbformat_minor": 2,
 "cells": [
  {
   "cell_type": "code",
   "execution_count": 80,
   "metadata": {},
   "outputs": [],
   "source": [
    "import pandas as pd \n",
    "import numpy as np\n",
    "from os import listdir\n",
    "from itertools import combinations "
   ]
  },
  {
   "source": [
    "### Helper Functions"
   ],
   "cell_type": "markdown",
   "metadata": {}
  },
  {
   "cell_type": "code",
   "execution_count": 40,
   "metadata": {},
   "outputs": [],
   "source": [
    "#Find number of search iterations required\n",
    "#k = number of compounds that are not the protein\n",
    "def number_of_search_iterations(k):\n",
    "  if(k>0):\n",
    "    result = k+number_of_search_iterations(k-1)\n",
    "  else:\n",
    "    result = 0\n",
    "  return result"
   ]
  },
  {
   "cell_type": "code",
   "execution_count": 49,
   "metadata": {},
   "outputs": [],
   "source": [
    "#config constraints \n",
    "tolerance = 5\n",
    "protein = \"Ubiquitin\"\n",
    "\n",
    "#subscript formatting for strings\n",
    "SUB = str.maketrans(\"0123456789\", \"₀₁₂₃₄₅₆₇₈₉\")"
   ]
  },
  {
   "source": [
    "USe Ub+C as test file"
   ],
   "cell_type": "markdown",
   "metadata": {}
  },
  {
   "cell_type": "code",
   "execution_count": 63,
   "metadata": {},
   "outputs": [],
   "source": [
    "data_read_path = \"..//Data//\"\n",
    "compound_list_path = data_read_path + \"Compound Constraints//\"\n",
    "spectra_path = data_read_path + \"Deconvoluted Spectra//\"\n",
    "\n",
    "#read in data\n",
    "spectra_files = listdir(spectra_path)\n",
    "bound_df = pd.read_excel(spectra_path+spectra_files[0])\n",
    "\n",
    "compounds_files = listdir(compound_list_path)\n",
    "compounds = pd.read_excel(compound_list_path+compounds_files[0])"
   ]
  },
  {
   "cell_type": "code",
   "execution_count": 64,
   "metadata": {},
   "outputs": [],
   "source": [
    "#xtract information about Ub and the other compounds\n",
    "other_compounds_df = compounds[compounds.Name != protein] #extract all compounds but Ub\n",
    "protein_df = compounds[compounds.Name == protein] #extract Ub information"
   ]
  },
  {
   "cell_type": "code",
   "execution_count": 65,
   "metadata": {},
   "outputs": [
    {
     "output_type": "execute_result",
     "data": {
      "text/plain": [
       "   ID      Name Formula     Mass\n",
       "0   1     Water     H2O   19.018\n",
       "1   2  Chlorine      Cl   35.976\n",
       "2   3  Platinum      Pt  195.972"
      ],
      "text/html": "<div>\n<style scoped>\n    .dataframe tbody tr th:only-of-type {\n        vertical-align: middle;\n    }\n\n    .dataframe tbody tr th {\n        vertical-align: top;\n    }\n\n    .dataframe thead th {\n        text-align: right;\n    }\n</style>\n<table border=\"1\" class=\"dataframe\">\n  <thead>\n    <tr style=\"text-align: right;\">\n      <th></th>\n      <th>ID</th>\n      <th>Name</th>\n      <th>Formula</th>\n      <th>Mass</th>\n    </tr>\n  </thead>\n  <tbody>\n    <tr>\n      <th>0</th>\n      <td>1</td>\n      <td>Water</td>\n      <td>H2O</td>\n      <td>19.018</td>\n    </tr>\n    <tr>\n      <th>1</th>\n      <td>2</td>\n      <td>Chlorine</td>\n      <td>Cl</td>\n      <td>35.976</td>\n    </tr>\n    <tr>\n      <th>2</th>\n      <td>3</td>\n      <td>Platinum</td>\n      <td>Pt</td>\n      <td>195.972</td>\n    </tr>\n  </tbody>\n</table>\n</div>"
     },
     "metadata": {},
     "execution_count": 65
    }
   ],
   "source": [
    "#TESTING PURPOSES\n",
    "\n",
    "#select 3 compounds to test with\n",
    "other_compounds_df = other_compounds_df.head(3)\n",
    "other_compounds_df"
   ]
  },
  {
   "cell_type": "code",
   "execution_count": 59,
   "metadata": {},
   "outputs": [
    {
     "output_type": "stream",
     "name": "stdout",
     "text": [
      "Number of combinations/iterations:  6\n"
     ]
    }
   ],
   "source": [
    "number_of_combinations = number_of_search_iterations(other_compounds_df.shape[0])\n",
    "print(\"Number of combinations/iterations: \", number_of_combinations)"
   ]
  },
  {
   "cell_type": "code",
   "execution_count": 167,
   "metadata": {},
   "outputs": [],
   "source": [
    "#create binding list\n",
    "#binding list contains bonded compound and masses\n",
    "binding_df = pd.DataFrame([])\n",
    "number_of_compounds = other_compounds_df.shape[0]\n",
    "\n",
    "for k in range(1, number_of_compounds+1):\n",
    "\n",
    "    #how many ways can you select k items from a list of n (where n=number of compounds, k=length of combinations)\n",
    "    #use ID's as from ID's we can extract the masses and compound names\n",
    "    combs = combinations(other_compounds_df.ID,k)\n",
    "\n",
    "    #create binding elements and total masses\n",
    "    for bonded_compound_ids in combs:\n",
    "        bonded_compound = protein_df[\"Formula\"].values[0].translate(SUB) #Base Ub symbol\n",
    "        total_mass = protein_df[\"Mass\"].values[0] #Base Ub mass\n",
    "\n",
    "        for idx in bonded_compound_ids:\n",
    "            bonded_compound += \" + \" + other_compounds_df.loc[other_compounds_df.ID == idx, \"Formula\"].values[0].translate(SUB)\n",
    "            total_mass += other_compounds_df.loc[other_compounds_df.ID == idx, \"Mass\"].values[0]\n",
    "        binding_df = binding_df.append(pd.DataFrame({\"Compound\":bonded_compound, \"Mass\":total_mass}, index=range(1)))\n",
    "\n",
    "binding_df.index = range(binding_df.shape[0])"
   ]
  }
 ]
}