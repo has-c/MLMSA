{
 "metadata": {
  "language_info": {
   "codemirror_mode": {
    "name": "ipython",
    "version": 3
   },
   "file_extension": ".py",
   "mimetype": "text/x-python",
   "name": "python",
   "nbconvert_exporter": "python",
   "pygments_lexer": "ipython3",
   "version": "3.8.2-final"
  },
  "orig_nbformat": 2,
  "kernelspec": {
   "name": "Python 3.8.2 64-bit",
   "display_name": "Python 3.8.2 64-bit",
   "metadata": {
    "interpreter": {
     "hash": "2db524e06e9f5f4ffedc911c917cb75e12dbc923643829bf417064a77eb14d37"
    }
   }
  }
 },
 "nbformat": 4,
 "nbformat_minor": 2,
 "cells": [
  {
   "cell_type": "code",
   "execution_count": 1,
   "metadata": {},
   "outputs": [],
   "source": [
    "import pandas as pd \n",
    "import numpy as np\n",
    "from os import listdir\n",
    "from itertools import combinations, product  \n",
    "from scipy.signal import find_peaks \n",
    "import matplotlib.pyplot as plt\n",
    "from sklearn.preprocessing import MinMaxScaler \n",
    "from tqdm import tqdm\n",
    "\n",
    "%matplotlib inline"
   ]
  },
  {
   "cell_type": "code",
   "execution_count": 2,
   "metadata": {},
   "outputs": [],
   "source": [
    "#config constraints \n",
    "tolerance = 0.5\n",
    "protein = \"Ubiquitin\"\n",
    "\n",
    "#subscript formatting for strings\n",
    "SUB = str.maketrans(\"0123456789\", \"₀₁₂₃₄₅₆₇₈₉\")"
   ]
  },
  {
   "cell_type": "code",
   "execution_count": 4,
   "metadata": {},
   "outputs": [],
   "source": [
    "data_read_path = \"..//Data//\"\n",
    "compound_list_path = data_read_path + \"Compound Constraints//\"\n",
    "spectra_path = data_read_path + \"Deconvoluted Spectra//\"\n",
    "\n",
    "#read in data\n",
    "spectra_files = listdir(spectra_path)\n",
    "bound_df = pd.read_excel(spectra_path+spectra_files[0])\n",
    "unbound_df = pd.read_excel(spectra_path+spectra_files[1])\n",
    "\n",
    "\n",
    "compounds_files = listdir(compound_list_path)\n",
    "compounds = pd.read_excel(compound_list_path+compounds_files[0])"
   ]
  },
  {
   "cell_type": "code",
   "execution_count": 5,
   "metadata": {},
   "outputs": [
    {
     "output_type": "stream",
     "name": "stdout",
     "text": [
      "unbound:  Ubi_1in100_broad band_000001.xlsx\nbound:  Ubiquitin_plusC_1in100_000001.xlsx\n"
     ]
    }
   ],
   "source": [
    "#files used\n",
    "\n",
    "print(\"unbound: \", spectra_files[1])\n",
    "print(\"bound: \", spectra_files[0])"
   ]
  },
  {
   "cell_type": "code",
   "execution_count": 6,
   "metadata": {},
   "outputs": [],
   "source": [
    "#xtract information about Ub and the other compounds\n",
    "other_compounds_df = compounds[compounds.Name != protein] #extract all compounds but Ub\n",
    "protein_df = compounds[compounds.Name == protein] #extract Ub information"
   ]
  },
  {
   "source": [
    "## Create Binding List\n",
    "\n",
    "Create theoretical list of possible combinations of drug bindings"
   ],
   "cell_type": "markdown",
   "metadata": {}
  },
  {
   "cell_type": "code",
   "execution_count": 21,
   "metadata": {
    "tags": []
   },
   "outputs": [
    {
     "output_type": "stream",
     "name": "stdout",
     "text": [
      "[(2,), (3,), (4,)]\n[(1, 3), (1, 4), (2, 3), (2, 4), (3, 4)]\n[(1, 2, 4), (1, 3, 4), (2, 3, 4)]\n[]\n"
     ]
    }
   ],
   "source": [
    "#create binding list\n",
    "#binding list contains bonded compound and masses\n",
    "binding_df = pd.DataFrame([])\n",
    "number_of_compounds = other_compounds_df.shape[0]\n",
    "\n",
    "for k in tqdm(range(1, number_of_compounds+1)):\n",
    "\n",
    "    #how many ways can you select k items from a list of n (where n=number of compounds, k=length of combinations)\n",
    "    #use ID's as from ID's we can extract the masses and compound names\n",
    "    combs = combinations(other_compounds_df.ID,k)\n",
    "    #combs gives you the compounds to be bonded together\n",
    "\n",
    "    #create binding elements and total masses\n",
    "    for bonded_compound_ids in combs:\n",
    "\n",
    "        unbounded_molecule_formula = protein_df[\"Formula\"].values[0].translate(SUB) #Base Ub symbol\n",
    "        unbounded_molecule_mass = protein_df[\"Mass\"].values[0] #Base Ub mass\n",
    "\n",
    "        if len(bonded_compound_ids) == 1:\n",
    "            idx = bonded_compound_ids[0]\n",
    "\n",
    "            molecule = other_compounds_df.loc[other_compounds_df.ID == idx, \"Formula\"].values[0].translate(SUB)\n",
    "\n",
    "            min_value = other_compounds_df.loc[other_compounds_df.ID == idx, \"Min\"].values[0]\n",
    "            max_value = other_compounds_df.loc[other_compounds_df.ID == idx, \"Max\"].values[0]\n",
    "\n",
    "            if min_value == 0:\n",
    "                min_value = 1\n",
    "            tolerance_seq = list(range(min_value, max_value+1))\n",
    "\n",
    "            if max_value > 0:\n",
    "                for multiplier in tolerance_seq:\n",
    "                    \n",
    "                        #single compound bonding \n",
    "                        permutation_of_molecule = \"(\" + molecule + \")\" + str(multiplier).translate(SUB)\n",
    "                        bonded_compound = unbounded_molecule_formula + \" + \" + permutation_of_molecule\n",
    "                        total_mass = unbounded_molecule_mass + (other_compounds_df.loc[other_compounds_df.ID == idx, \"Mass\"].values[0]*multiplier)\n",
    "            \n",
    "                        binding_df = binding_df.append(\n",
    "                            pd.DataFrame({\"Formula\":bonded_compound, \"Mass\":total_mass, \"Level\":1, \"Combs\": str(bonded_compound_ids)}, index=range(1)),\n",
    "                            ignore_index=True)\n",
    "                    \n",
    "        else:\n",
    "            #if more than 1 molecule is being considered\n",
    "            level = len(bonded_compound_ids)\n",
    "            prev_level = level - 1\n",
    "            compounds_considered_at_prev_level = bonded_compound_ids[:-1]\n",
    "            compound_to_be_considered = bonded_compound_ids[-1]\n",
    "            \n",
    "            max_value = other_compounds_df.loc[other_compounds_df.ID == compound_to_be_considered, \"Max\"].values[0]\n",
    "            min_value = other_compounds_df.loc[other_compounds_df.ID == compound_to_be_considered, \"Min\"].values[0]\n",
    "            molecule = other_compounds_df.loc[other_compounds_df.ID == compound_to_be_considered, \"Formula\"].values[0].translate(SUB)\n",
    "            molecule_mass = other_compounds_df.loc[other_compounds_df.ID == compound_to_be_considered, \"Mass\"].values[0]\n",
    "\n",
    "            if min_value == 0:\n",
    "                min_value = 1\n",
    "            tolerance_seq = list(range(min_value, max_value+1))\n",
    "\n",
    "            #extract previous level\n",
    "            search = binding_df[(binding_df[\"Level\"] == prev_level) & (binding_df[\"Combs\"] == str(compounds_considered_at_prev_level))]\n",
    "            for row_idx in search.index:\n",
    "                bounded_compound_formula = search.loc[row_idx, \"Formula\"]\n",
    "                bounded_compound_mass = search.loc[row_idx, \"Mass\"]\n",
    "\n",
    "                if max_value > 0:\n",
    "                    for multiplier in tolerance_seq:\n",
    "                        permutation_of_molecule = \"(\" + molecule + \")\" + str(multiplier).translate(SUB)\n",
    "                        bonded_compound = bounded_compound_formula + \" + \" + permutation_of_molecule\n",
    "                        total_mass = bounded_compound_mass + (molecule_mass*multiplier)\n",
    "            \n",
    "                        binding_df = binding_df.append(\n",
    "                            pd.DataFrame({\"Formula\":bonded_compound, \"Mass\":total_mass, \"Level\":level, \"Combs\": str(bonded_compound_ids)}, index=range(1)),\n",
    "                                ignore_index=True)\n",
    "\n",
    "\n",
    "\n",
    "binding_df.index = range(binding_df.shape[0])\n",
    "binding_df.to_csv(\"test.csv\") #for testing"
   ]
  },
  {
   "source": [
    "## Normalise Spectrums"
   ],
   "cell_type": "markdown",
   "metadata": {}
  },
  {
   "cell_type": "code",
   "execution_count": 22,
   "metadata": {},
   "outputs": [],
   "source": [
    "def normalise(spectrum):\n",
    "    sc = MinMaxScaler()\n",
    "    spectrum[\"normalised_intensity\"] = sc.fit_transform(spectrum[\"I\"].values.reshape(-1,1))\n",
    "\n",
    "    return spectrum"
   ]
  },
  {
   "cell_type": "code",
   "execution_count": 23,
   "metadata": {},
   "outputs": [],
   "source": [
    "#normalise both spectrums\n",
    "bound_df = normalise(bound_df)\n",
    "unbound_df = normalise(unbound_df)"
   ]
  },
  {
   "source": [
    "## Search Spectrum\n",
    "\n",
    "Search spectrum for intense peaks and label the peaks with the adduct"
   ],
   "cell_type": "markdown",
   "metadata": {}
  },
  {
   "cell_type": "code",
   "execution_count": 28,
   "metadata": {},
   "outputs": [
    {
     "output_type": "execute_result",
     "data": {
      "text/plain": [
       "[<matplotlib.lines.Line2D at 0x1d6977138b0>]"
      ]
     },
     "metadata": {},
     "execution_count": 28
    },
    {
     "output_type": "display_data",
     "data": {
      "text/plain": "<Figure size 432x288 with 1 Axes>",
      "image/svg+xml": "<?xml version=\"1.0\" encoding=\"utf-8\" standalone=\"no\"?>\r\n<!DOCTYPE svg PUBLIC \"-//W3C//DTD SVG 1.1//EN\"\r\n  \"http://www.w3.org/Graphics/SVG/1.1/DTD/svg11.dtd\">\r\n<!-- Created with matplotlib (https://matplotlib.org/) -->\r\n<svg height=\"248.518125pt\" version=\"1.1\" viewBox=\"0 0 372.815122 248.518125\" width=\"372.815122pt\" xmlns=\"http://www.w3.org/2000/svg\" xmlns:xlink=\"http://www.w3.org/1999/xlink\">\r\n <defs>\r\n  <style type=\"text/css\">\r\n*{stroke-linecap:butt;stroke-linejoin:round;}\r\n  </style>\r\n </defs>\r\n <g id=\"figure_1\">\r\n  <g id=\"patch_1\">\r\n   <path d=\"M 0 248.518125 \r\nL 372.815122 248.518125 \r\nL 372.815122 0 \r\nL 0 0 \r\nz\r\n\" style=\"fill:none;\"/>\r\n  </g>\r\n  <g id=\"axes_1\">\r\n   <g id=\"patch_2\">\r\n    <path d=\"M 30.103125 224.64 \r\nL 364.903125 224.64 \r\nL 364.903125 7.2 \r\nL 30.103125 7.2 \r\nz\r\n\" style=\"fill:#ffffff;\"/>\r\n   </g>\r\n   <g id=\"matplotlib.axis_1\">\r\n    <g id=\"xtick_1\">\r\n     <g id=\"line2d_1\">\r\n      <defs>\r\n       <path d=\"M 0 0 \r\nL 0 3.5 \r\n\" id=\"m8b1fcb3de4\" style=\"stroke:#000000;stroke-width:0.8;\"/>\r\n      </defs>\r\n      <g>\r\n       <use style=\"stroke:#000000;stroke-width:0.8;\" x=\"45.300048\" xlink:href=\"#m8b1fcb3de4\" y=\"224.64\"/>\r\n      </g>\r\n     </g>\r\n     <g id=\"text_1\">\r\n      <!-- 5000 -->\r\n      <defs>\r\n       <path d=\"M 10.796875 72.90625 \r\nL 49.515625 72.90625 \r\nL 49.515625 64.59375 \r\nL 19.828125 64.59375 \r\nL 19.828125 46.734375 \r\nQ 21.96875 47.46875 24.109375 47.828125 \r\nQ 26.265625 48.1875 28.421875 48.1875 \r\nQ 40.625 48.1875 47.75 41.5 \r\nQ 54.890625 34.8125 54.890625 23.390625 \r\nQ 54.890625 11.625 47.5625 5.09375 \r\nQ 40.234375 -1.421875 26.90625 -1.421875 \r\nQ 22.3125 -1.421875 17.546875 -0.640625 \r\nQ 12.796875 0.140625 7.71875 1.703125 \r\nL 7.71875 11.625 \r\nQ 12.109375 9.234375 16.796875 8.0625 \r\nQ 21.484375 6.890625 26.703125 6.890625 \r\nQ 35.15625 6.890625 40.078125 11.328125 \r\nQ 45.015625 15.765625 45.015625 23.390625 \r\nQ 45.015625 31 40.078125 35.4375 \r\nQ 35.15625 39.890625 26.703125 39.890625 \r\nQ 22.75 39.890625 18.8125 39.015625 \r\nQ 14.890625 38.140625 10.796875 36.28125 \r\nz\r\n\" id=\"DejaVuSans-53\"/>\r\n       <path d=\"M 31.78125 66.40625 \r\nQ 24.171875 66.40625 20.328125 58.90625 \r\nQ 16.5 51.421875 16.5 36.375 \r\nQ 16.5 21.390625 20.328125 13.890625 \r\nQ 24.171875 6.390625 31.78125 6.390625 \r\nQ 39.453125 6.390625 43.28125 13.890625 \r\nQ 47.125 21.390625 47.125 36.375 \r\nQ 47.125 51.421875 43.28125 58.90625 \r\nQ 39.453125 66.40625 31.78125 66.40625 \r\nz\r\nM 31.78125 74.21875 \r\nQ 44.046875 74.21875 50.515625 64.515625 \r\nQ 56.984375 54.828125 56.984375 36.375 \r\nQ 56.984375 17.96875 50.515625 8.265625 \r\nQ 44.046875 -1.421875 31.78125 -1.421875 \r\nQ 19.53125 -1.421875 13.0625 8.265625 \r\nQ 6.59375 17.96875 6.59375 36.375 \r\nQ 6.59375 54.828125 13.0625 64.515625 \r\nQ 19.53125 74.21875 31.78125 74.21875 \r\nz\r\n\" id=\"DejaVuSans-48\"/>\r\n      </defs>\r\n      <g transform=\"translate(32.575048 239.238437)scale(0.1 -0.1)\">\r\n       <use xlink:href=\"#DejaVuSans-53\"/>\r\n       <use x=\"63.623047\" xlink:href=\"#DejaVuSans-48\"/>\r\n       <use x=\"127.246094\" xlink:href=\"#DejaVuSans-48\"/>\r\n       <use x=\"190.869141\" xlink:href=\"#DejaVuSans-48\"/>\r\n      </g>\r\n     </g>\r\n    </g>\r\n    <g id=\"xtick_2\">\r\n     <g id=\"line2d_2\">\r\n      <g>\r\n       <use style=\"stroke:#000000;stroke-width:0.8;\" x=\"106.181812\" xlink:href=\"#m8b1fcb3de4\" y=\"224.64\"/>\r\n      </g>\r\n     </g>\r\n     <g id=\"text_2\">\r\n      <!-- 6000 -->\r\n      <defs>\r\n       <path d=\"M 33.015625 40.375 \r\nQ 26.375 40.375 22.484375 35.828125 \r\nQ 18.609375 31.296875 18.609375 23.390625 \r\nQ 18.609375 15.53125 22.484375 10.953125 \r\nQ 26.375 6.390625 33.015625 6.390625 \r\nQ 39.65625 6.390625 43.53125 10.953125 \r\nQ 47.40625 15.53125 47.40625 23.390625 \r\nQ 47.40625 31.296875 43.53125 35.828125 \r\nQ 39.65625 40.375 33.015625 40.375 \r\nz\r\nM 52.59375 71.296875 \r\nL 52.59375 62.3125 \r\nQ 48.875 64.0625 45.09375 64.984375 \r\nQ 41.3125 65.921875 37.59375 65.921875 \r\nQ 27.828125 65.921875 22.671875 59.328125 \r\nQ 17.53125 52.734375 16.796875 39.40625 \r\nQ 19.671875 43.65625 24.015625 45.921875 \r\nQ 28.375 48.1875 33.59375 48.1875 \r\nQ 44.578125 48.1875 50.953125 41.515625 \r\nQ 57.328125 34.859375 57.328125 23.390625 \r\nQ 57.328125 12.15625 50.6875 5.359375 \r\nQ 44.046875 -1.421875 33.015625 -1.421875 \r\nQ 20.359375 -1.421875 13.671875 8.265625 \r\nQ 6.984375 17.96875 6.984375 36.375 \r\nQ 6.984375 53.65625 15.1875 63.9375 \r\nQ 23.390625 74.21875 37.203125 74.21875 \r\nQ 40.921875 74.21875 44.703125 73.484375 \r\nQ 48.484375 72.75 52.59375 71.296875 \r\nz\r\n\" id=\"DejaVuSans-54\"/>\r\n      </defs>\r\n      <g transform=\"translate(93.456812 239.238437)scale(0.1 -0.1)\">\r\n       <use xlink:href=\"#DejaVuSans-54\"/>\r\n       <use x=\"63.623047\" xlink:href=\"#DejaVuSans-48\"/>\r\n       <use x=\"127.246094\" xlink:href=\"#DejaVuSans-48\"/>\r\n       <use x=\"190.869141\" xlink:href=\"#DejaVuSans-48\"/>\r\n      </g>\r\n     </g>\r\n    </g>\r\n    <g id=\"xtick_3\">\r\n     <g id=\"line2d_3\">\r\n      <g>\r\n       <use style=\"stroke:#000000;stroke-width:0.8;\" x=\"167.063577\" xlink:href=\"#m8b1fcb3de4\" y=\"224.64\"/>\r\n      </g>\r\n     </g>\r\n     <g id=\"text_3\">\r\n      <!-- 7000 -->\r\n      <defs>\r\n       <path d=\"M 8.203125 72.90625 \r\nL 55.078125 72.90625 \r\nL 55.078125 68.703125 \r\nL 28.609375 0 \r\nL 18.3125 0 \r\nL 43.21875 64.59375 \r\nL 8.203125 64.59375 \r\nz\r\n\" id=\"DejaVuSans-55\"/>\r\n      </defs>\r\n      <g transform=\"translate(154.338577 239.238437)scale(0.1 -0.1)\">\r\n       <use xlink:href=\"#DejaVuSans-55\"/>\r\n       <use x=\"63.623047\" xlink:href=\"#DejaVuSans-48\"/>\r\n       <use x=\"127.246094\" xlink:href=\"#DejaVuSans-48\"/>\r\n       <use x=\"190.869141\" xlink:href=\"#DejaVuSans-48\"/>\r\n      </g>\r\n     </g>\r\n    </g>\r\n    <g id=\"xtick_4\">\r\n     <g id=\"line2d_4\">\r\n      <g>\r\n       <use style=\"stroke:#000000;stroke-width:0.8;\" x=\"227.945342\" xlink:href=\"#m8b1fcb3de4\" y=\"224.64\"/>\r\n      </g>\r\n     </g>\r\n     <g id=\"text_4\">\r\n      <!-- 8000 -->\r\n      <defs>\r\n       <path d=\"M 31.78125 34.625 \r\nQ 24.75 34.625 20.71875 30.859375 \r\nQ 16.703125 27.09375 16.703125 20.515625 \r\nQ 16.703125 13.921875 20.71875 10.15625 \r\nQ 24.75 6.390625 31.78125 6.390625 \r\nQ 38.8125 6.390625 42.859375 10.171875 \r\nQ 46.921875 13.96875 46.921875 20.515625 \r\nQ 46.921875 27.09375 42.890625 30.859375 \r\nQ 38.875 34.625 31.78125 34.625 \r\nz\r\nM 21.921875 38.8125 \r\nQ 15.578125 40.375 12.03125 44.71875 \r\nQ 8.5 49.078125 8.5 55.328125 \r\nQ 8.5 64.0625 14.71875 69.140625 \r\nQ 20.953125 74.21875 31.78125 74.21875 \r\nQ 42.671875 74.21875 48.875 69.140625 \r\nQ 55.078125 64.0625 55.078125 55.328125 \r\nQ 55.078125 49.078125 51.53125 44.71875 \r\nQ 48 40.375 41.703125 38.8125 \r\nQ 48.828125 37.15625 52.796875 32.3125 \r\nQ 56.78125 27.484375 56.78125 20.515625 \r\nQ 56.78125 9.90625 50.3125 4.234375 \r\nQ 43.84375 -1.421875 31.78125 -1.421875 \r\nQ 19.734375 -1.421875 13.25 4.234375 \r\nQ 6.78125 9.90625 6.78125 20.515625 \r\nQ 6.78125 27.484375 10.78125 32.3125 \r\nQ 14.796875 37.15625 21.921875 38.8125 \r\nz\r\nM 18.3125 54.390625 \r\nQ 18.3125 48.734375 21.84375 45.5625 \r\nQ 25.390625 42.390625 31.78125 42.390625 \r\nQ 38.140625 42.390625 41.71875 45.5625 \r\nQ 45.3125 48.734375 45.3125 54.390625 \r\nQ 45.3125 60.0625 41.71875 63.234375 \r\nQ 38.140625 66.40625 31.78125 66.40625 \r\nQ 25.390625 66.40625 21.84375 63.234375 \r\nQ 18.3125 60.0625 18.3125 54.390625 \r\nz\r\n\" id=\"DejaVuSans-56\"/>\r\n      </defs>\r\n      <g transform=\"translate(215.220342 239.238437)scale(0.1 -0.1)\">\r\n       <use xlink:href=\"#DejaVuSans-56\"/>\r\n       <use x=\"63.623047\" xlink:href=\"#DejaVuSans-48\"/>\r\n       <use x=\"127.246094\" xlink:href=\"#DejaVuSans-48\"/>\r\n       <use x=\"190.869141\" xlink:href=\"#DejaVuSans-48\"/>\r\n      </g>\r\n     </g>\r\n    </g>\r\n    <g id=\"xtick_5\">\r\n     <g id=\"line2d_5\">\r\n      <g>\r\n       <use style=\"stroke:#000000;stroke-width:0.8;\" x=\"288.827107\" xlink:href=\"#m8b1fcb3de4\" y=\"224.64\"/>\r\n      </g>\r\n     </g>\r\n     <g id=\"text_5\">\r\n      <!-- 9000 -->\r\n      <defs>\r\n       <path d=\"M 10.984375 1.515625 \r\nL 10.984375 10.5 \r\nQ 14.703125 8.734375 18.5 7.8125 \r\nQ 22.3125 6.890625 25.984375 6.890625 \r\nQ 35.75 6.890625 40.890625 13.453125 \r\nQ 46.046875 20.015625 46.78125 33.40625 \r\nQ 43.953125 29.203125 39.59375 26.953125 \r\nQ 35.25 24.703125 29.984375 24.703125 \r\nQ 19.046875 24.703125 12.671875 31.3125 \r\nQ 6.296875 37.9375 6.296875 49.421875 \r\nQ 6.296875 60.640625 12.9375 67.421875 \r\nQ 19.578125 74.21875 30.609375 74.21875 \r\nQ 43.265625 74.21875 49.921875 64.515625 \r\nQ 56.59375 54.828125 56.59375 36.375 \r\nQ 56.59375 19.140625 48.40625 8.859375 \r\nQ 40.234375 -1.421875 26.421875 -1.421875 \r\nQ 22.703125 -1.421875 18.890625 -0.6875 \r\nQ 15.09375 0.046875 10.984375 1.515625 \r\nz\r\nM 30.609375 32.421875 \r\nQ 37.25 32.421875 41.125 36.953125 \r\nQ 45.015625 41.5 45.015625 49.421875 \r\nQ 45.015625 57.28125 41.125 61.84375 \r\nQ 37.25 66.40625 30.609375 66.40625 \r\nQ 23.96875 66.40625 20.09375 61.84375 \r\nQ 16.21875 57.28125 16.21875 49.421875 \r\nQ 16.21875 41.5 20.09375 36.953125 \r\nQ 23.96875 32.421875 30.609375 32.421875 \r\nz\r\n\" id=\"DejaVuSans-57\"/>\r\n      </defs>\r\n      <g transform=\"translate(276.102107 239.238437)scale(0.1 -0.1)\">\r\n       <use xlink:href=\"#DejaVuSans-57\"/>\r\n       <use x=\"63.623047\" xlink:href=\"#DejaVuSans-48\"/>\r\n       <use x=\"127.246094\" xlink:href=\"#DejaVuSans-48\"/>\r\n       <use x=\"190.869141\" xlink:href=\"#DejaVuSans-48\"/>\r\n      </g>\r\n     </g>\r\n    </g>\r\n    <g id=\"xtick_6\">\r\n     <g id=\"line2d_6\">\r\n      <g>\r\n       <use style=\"stroke:#000000;stroke-width:0.8;\" x=\"349.708872\" xlink:href=\"#m8b1fcb3de4\" y=\"224.64\"/>\r\n      </g>\r\n     </g>\r\n     <g id=\"text_6\">\r\n      <!-- 10000 -->\r\n      <defs>\r\n       <path d=\"M 12.40625 8.296875 \r\nL 28.515625 8.296875 \r\nL 28.515625 63.921875 \r\nL 10.984375 60.40625 \r\nL 10.984375 69.390625 \r\nL 28.421875 72.90625 \r\nL 38.28125 72.90625 \r\nL 38.28125 8.296875 \r\nL 54.390625 8.296875 \r\nL 54.390625 0 \r\nL 12.40625 0 \r\nz\r\n\" id=\"DejaVuSans-49\"/>\r\n      </defs>\r\n      <g transform=\"translate(333.802622 239.238437)scale(0.1 -0.1)\">\r\n       <use xlink:href=\"#DejaVuSans-49\"/>\r\n       <use x=\"63.623047\" xlink:href=\"#DejaVuSans-48\"/>\r\n       <use x=\"127.246094\" xlink:href=\"#DejaVuSans-48\"/>\r\n       <use x=\"190.869141\" xlink:href=\"#DejaVuSans-48\"/>\r\n       <use x=\"254.492188\" xlink:href=\"#DejaVuSans-48\"/>\r\n      </g>\r\n     </g>\r\n    </g>\r\n   </g>\r\n   <g id=\"matplotlib.axis_2\">\r\n    <g id=\"ytick_1\">\r\n     <g id=\"line2d_7\">\r\n      <defs>\r\n       <path d=\"M 0 0 \r\nL -3.5 0 \r\n\" id=\"m9290a054ab\" style=\"stroke:#000000;stroke-width:0.8;\"/>\r\n      </defs>\r\n      <g>\r\n       <use style=\"stroke:#000000;stroke-width:0.8;\" x=\"30.103125\" xlink:href=\"#m9290a054ab\" y=\"214.756364\"/>\r\n      </g>\r\n     </g>\r\n     <g id=\"text_7\">\r\n      <!-- 0.0 -->\r\n      <defs>\r\n       <path d=\"M 10.6875 12.40625 \r\nL 21 12.40625 \r\nL 21 0 \r\nL 10.6875 0 \r\nz\r\n\" id=\"DejaVuSans-46\"/>\r\n      </defs>\r\n      <g transform=\"translate(7.2 218.555582)scale(0.1 -0.1)\">\r\n       <use xlink:href=\"#DejaVuSans-48\"/>\r\n       <use x=\"63.623047\" xlink:href=\"#DejaVuSans-46\"/>\r\n       <use x=\"95.410156\" xlink:href=\"#DejaVuSans-48\"/>\r\n      </g>\r\n     </g>\r\n    </g>\r\n    <g id=\"ytick_2\">\r\n     <g id=\"line2d_8\">\r\n      <g>\r\n       <use style=\"stroke:#000000;stroke-width:0.8;\" x=\"30.103125\" xlink:href=\"#m9290a054ab\" y=\"175.221818\"/>\r\n      </g>\r\n     </g>\r\n     <g id=\"text_8\">\r\n      <!-- 0.2 -->\r\n      <defs>\r\n       <path d=\"M 19.1875 8.296875 \r\nL 53.609375 8.296875 \r\nL 53.609375 0 \r\nL 7.328125 0 \r\nL 7.328125 8.296875 \r\nQ 12.9375 14.109375 22.625 23.890625 \r\nQ 32.328125 33.6875 34.8125 36.53125 \r\nQ 39.546875 41.84375 41.421875 45.53125 \r\nQ 43.3125 49.21875 43.3125 52.78125 \r\nQ 43.3125 58.59375 39.234375 62.25 \r\nQ 35.15625 65.921875 28.609375 65.921875 \r\nQ 23.96875 65.921875 18.8125 64.3125 \r\nQ 13.671875 62.703125 7.8125 59.421875 \r\nL 7.8125 69.390625 \r\nQ 13.765625 71.78125 18.9375 73 \r\nQ 24.125 74.21875 28.421875 74.21875 \r\nQ 39.75 74.21875 46.484375 68.546875 \r\nQ 53.21875 62.890625 53.21875 53.421875 \r\nQ 53.21875 48.921875 51.53125 44.890625 \r\nQ 49.859375 40.875 45.40625 35.40625 \r\nQ 44.1875 33.984375 37.640625 27.21875 \r\nQ 31.109375 20.453125 19.1875 8.296875 \r\nz\r\n\" id=\"DejaVuSans-50\"/>\r\n      </defs>\r\n      <g transform=\"translate(7.2 179.021037)scale(0.1 -0.1)\">\r\n       <use xlink:href=\"#DejaVuSans-48\"/>\r\n       <use x=\"63.623047\" xlink:href=\"#DejaVuSans-46\"/>\r\n       <use x=\"95.410156\" xlink:href=\"#DejaVuSans-50\"/>\r\n      </g>\r\n     </g>\r\n    </g>\r\n    <g id=\"ytick_3\">\r\n     <g id=\"line2d_9\">\r\n      <g>\r\n       <use style=\"stroke:#000000;stroke-width:0.8;\" x=\"30.103125\" xlink:href=\"#m9290a054ab\" y=\"135.687273\"/>\r\n      </g>\r\n     </g>\r\n     <g id=\"text_9\">\r\n      <!-- 0.4 -->\r\n      <defs>\r\n       <path d=\"M 37.796875 64.3125 \r\nL 12.890625 25.390625 \r\nL 37.796875 25.390625 \r\nz\r\nM 35.203125 72.90625 \r\nL 47.609375 72.90625 \r\nL 47.609375 25.390625 \r\nL 58.015625 25.390625 \r\nL 58.015625 17.1875 \r\nL 47.609375 17.1875 \r\nL 47.609375 0 \r\nL 37.796875 0 \r\nL 37.796875 17.1875 \r\nL 4.890625 17.1875 \r\nL 4.890625 26.703125 \r\nz\r\n\" id=\"DejaVuSans-52\"/>\r\n      </defs>\r\n      <g transform=\"translate(7.2 139.486491)scale(0.1 -0.1)\">\r\n       <use xlink:href=\"#DejaVuSans-48\"/>\r\n       <use x=\"63.623047\" xlink:href=\"#DejaVuSans-46\"/>\r\n       <use x=\"95.410156\" xlink:href=\"#DejaVuSans-52\"/>\r\n      </g>\r\n     </g>\r\n    </g>\r\n    <g id=\"ytick_4\">\r\n     <g id=\"line2d_10\">\r\n      <g>\r\n       <use style=\"stroke:#000000;stroke-width:0.8;\" x=\"30.103125\" xlink:href=\"#m9290a054ab\" y=\"96.152727\"/>\r\n      </g>\r\n     </g>\r\n     <g id=\"text_10\">\r\n      <!-- 0.6 -->\r\n      <g transform=\"translate(7.2 99.951946)scale(0.1 -0.1)\">\r\n       <use xlink:href=\"#DejaVuSans-48\"/>\r\n       <use x=\"63.623047\" xlink:href=\"#DejaVuSans-46\"/>\r\n       <use x=\"95.410156\" xlink:href=\"#DejaVuSans-54\"/>\r\n      </g>\r\n     </g>\r\n    </g>\r\n    <g id=\"ytick_5\">\r\n     <g id=\"line2d_11\">\r\n      <g>\r\n       <use style=\"stroke:#000000;stroke-width:0.8;\" x=\"30.103125\" xlink:href=\"#m9290a054ab\" y=\"56.618182\"/>\r\n      </g>\r\n     </g>\r\n     <g id=\"text_11\">\r\n      <!-- 0.8 -->\r\n      <g transform=\"translate(7.2 60.417401)scale(0.1 -0.1)\">\r\n       <use xlink:href=\"#DejaVuSans-48\"/>\r\n       <use x=\"63.623047\" xlink:href=\"#DejaVuSans-46\"/>\r\n       <use x=\"95.410156\" xlink:href=\"#DejaVuSans-56\"/>\r\n      </g>\r\n     </g>\r\n    </g>\r\n    <g id=\"ytick_6\">\r\n     <g id=\"line2d_12\">\r\n      <g>\r\n       <use style=\"stroke:#000000;stroke-width:0.8;\" x=\"30.103125\" xlink:href=\"#m9290a054ab\" y=\"17.083636\"/>\r\n      </g>\r\n     </g>\r\n     <g id=\"text_12\">\r\n      <!-- 1.0 -->\r\n      <g transform=\"translate(7.2 20.882855)scale(0.1 -0.1)\">\r\n       <use xlink:href=\"#DejaVuSans-49\"/>\r\n       <use x=\"63.623047\" xlink:href=\"#DejaVuSans-46\"/>\r\n       <use x=\"95.410156\" xlink:href=\"#DejaVuSans-48\"/>\r\n      </g>\r\n     </g>\r\n    </g>\r\n   </g>\r\n   <g id=\"line2d_13\">\r\n    <path clip-path=\"url(#pf17dcc9102)\" d=\"M 45.321307 213.108084 \r\nL 45.422618 213.292147 \r\nL 45.52557 211.124053 \r\nL 45.559588 211.558255 \r\nL 45.592629 212.241506 \r\nL 46.036465 211.111657 \r\nL 46.074047 212.648182 \r\nL 46.539766 212.544202 \r\nL 46.603407 213.374944 \r\nL 46.700503 210.260285 \r\nL 46.735124 211.322302 \r\nL 46.772759 211.404414 \r\nL 49.983333 213.455351 \r\nL 50.154782 212.426744 \r\nL 52.934313 212.991928 \r\nL 53.934576 208.65964 \r\nL 54.048276 212.790894 \r\nL 54.172743 211.950943 \r\nL 54.210232 205.666583 \r\nL 54.286329 209.377555 \r\nL 54.483939 212.989719 \r\nL 54.717271 213.622109 \r\nL 55.065684 213.406622 \r\nL 55.253258 212.555349 \r\nL 55.292867 211.516175 \r\nL 55.33817 212.371218 \r\nL 55.469599 212.387427 \r\nL 55.57094 213.171535 \r\nL 56.345227 213.793528 \r\nL 57.563087 213.64846 \r\nL 58.888777 213.609814 \r\nL 59.235206 212.439689 \r\nL 59.482509 213.922664 \r\nL 59.921732 213.277404 \r\nL 60.979343 213.788532 \r\nL 61.964912 213.178098 \r\nL 62.002537 213.355506 \r\nL 63.208334 212.916477 \r\nL 63.3134 212.198047 \r\nL 63.574051 214.200818 \r\nL 63.713775 214.100705 \r\nL 63.863219 213.374421 \r\nL 64.523202 213.879168 \r\nL 66.747764 213.987852 \r\nL 68.008268 214.231438 \r\nL 72.555679 214.24601 \r\nL 72.632425 213.80546 \r\nL 73.015396 204.969695 \r\nL 73.136589 210.971417 \r\nL 74.702789 213.631023 \r\nL 74.774818 214.070442 \r\nL 74.851428 213.201881 \r\nL 74.889308 213.745106 \r\nL 74.92832 213.883553 \r\nL 74.965919 213.484232 \r\nL 75.231726 214.736325 \r\nL 75.383738 214.274445 \r\nL 75.539258 214.232026 \r\nL 76.906768 214.597917 \r\nL 78.427514 213.789747 \r\nL 78.505219 214.279065 \r\nL 78.542708 213.868673 \r\nL 78.6176 214.269521 \r\nL 78.998643 213.041278 \r\nL 79.143242 213.31026 \r\nL 79.242484 214.612759 \r\nL 79.683509 214.18168 \r\nL 79.721868 214.450939 \r\nL 79.835786 214.188957 \r\nL 81.040646 214.012863 \r\nL 82.65625 213.568653 \r\nL 82.900385 214.406084 \r\nL 83.226299 213.74192 \r\nL 83.37487 211.336389 \r\nL 83.525471 214.058761 \r\nL 83.564467 212.713446 \r\nL 83.640844 213.255674 \r\nL 83.717022 214.485114 \r\nL 84.019578 214.321653 \r\nL 84.586431 214.499667 \r\nL 84.744808 213.530205 \r\nL 84.824794 214.20005 \r\nL 85.276321 214.440705 \r\nL 85.805211 213.909828 \r\nL 86.046972 212.762316 \r\nL 86.174136 214.212078 \r\nL 87.023496 213.394459 \r\nL 87.098905 213.980024 \r\nL 87.140165 214.401172 \r\nL 87.21365 214.36742 \r\nL 87.300256 214.163572 \r\nL 87.711816 214.189064 \r\nL 88.432458 214.697746 \r\nL 88.470904 214.634738 \r\nL 88.511089 214.248004 \r\nL 89.236954 214.756364 \r\nL 90.670278 214.631272 \r\nL 90.832639 214.45395 \r\nL 90.98937 214.733565 \r\nL 91.465538 214.545119 \r\nL 91.775233 214.706989 \r\nL 92.048015 213.108735 \r\nL 92.124804 213.452642 \r\nL 92.280762 214.57407 \r\nL 92.357274 214.525283 \r\nL 92.733079 214.301608 \r\nL 92.773292 214.077136 \r\nL 92.887138 214.485996 \r\nL 93.572908 214.419346 \r\nL 94.941432 214.537161 \r\nL 95.699926 214.586018 \r\nL 95.773299 214.452118 \r\nL 97.339035 214.605262 \r\nL 101.375856 214.552094 \r\nL 101.62281 212.829941 \r\nL 101.95623 214.483252 \r\nL 102.548598 214.42872 \r\nL 102.65621 213.975249 \r\nL 102.80713 214.330168 \r\nL 103.118519 214.752905 \r\nL 103.691775 214.441876 \r\nL 104.016991 213.957473 \r\nL 104.309466 214.42869 \r\nL 105.266763 214.458943 \r\nL 105.538864 214.016729 \r\nL 105.620712 214.440034 \r\nL 105.663436 213.207977 \r\nL 105.810927 214.391684 \r\nL 106.206989 214.300513 \r\nL 106.942154 214.711372 \r\nL 107.66739 214.414337 \r\nL 107.706731 213.985508 \r\nL 107.828928 214.391542 \r\nL 108.239183 214.484877 \r\nL 109.978654 214.744071 \r\nL 110.791647 214.641707 \r\nL 112.0187 214.729573 \r\nL 112.744229 214.542291 \r\nL 113.282865 213.486734 \r\nL 113.641797 214.740438 \r\nL 114.160629 214.741651 \r\nL 115.013665 214.447491 \r\nL 117.09719 214.641097 \r\nL 117.690394 213.902111 \r\nL 122.929033 214.368042 \r\nL 123.10609 213.926 \r\nL 123.152821 211.041732 \r\nL 123.195866 211.892118 \r\nL 123.24317 213.83107 \r\nL 123.60769 214.401311 \r\nL 124.088185 214.253374 \r\nL 125.027798 214.094783 \r\nL 126.387039 214.179346 \r\nL 126.648893 212.788241 \r\nL 126.733302 213.356094 \r\nL 126.778289 213.033826 \r\nL 126.817668 213.334155 \r\nL 126.860306 212.702434 \r\nL 126.905711 214.019499 \r\nL 128.226908 210.772906 \r\nL 128.370433 205.054376 \r\nL 128.509021 207.542622 \r\nL 128.653584 213.030396 \r\nL 128.793039 213.949022 \r\nL 129.779495 213.982077 \r\nL 132.195741 212.111042 \r\nL 132.24306 210.967537 \r\nL 132.282992 212.15578 \r\nL 132.539026 212.236412 \r\nL 133.847424 213.055023 \r\nL 133.893021 212.731452 \r\nL 134.145452 213.390101 \r\nL 134.191522 212.766627 \r\nL 134.496606 212.373675 \r\nL 135.465671 213.724237 \r\nL 135.551403 212.935567 \r\nL 136.198086 213.557564 \r\nL 136.341201 213.450426 \r\nL 136.478199 212.269664 \r\nL 136.62198 212.502621 \r\nL 136.790408 213.656075 \r\nL 138.162125 213.857445 \r\nL 138.254649 214.037471 \r\nL 141.413849 214.019321 \r\nL 141.459559 214.06388 \r\nL 141.506777 213.986175 \r\nL 141.549872 213.995652 \r\nL 141.733839 213.406503 \r\nL 142.239453 213.595699 \r\nL 143.288397 213.001989 \r\nL 143.430758 212.203102 \r\nL 143.572424 213.318243 \r\nL 144.547608 214.230483 \r\nL 144.732957 213.617463 \r\nL 146.029458 214.199191 \r\nL 146.256174 213.596175 \r\nL 146.302083 213.695814 \r\nL 146.35108 212.305982 \r\nL 146.400762 212.831283 \r\nL 146.480827 212.041508 \r\nL 147.196318 214.107864 \r\nL 147.24403 214.046494 \r\nL 147.288953 213.975531 \r\nL 147.387423 214.17133 \r\nL 151.550435 214.451105 \r\nL 151.77964 213.743228 \r\nL 151.823461 214.101944 \r\nL 151.872708 213.951046 \r\nL 152.099054 213.447637 \r\nL 152.141624 214.150017 \r\nL 152.192579 213.584083 \r\nL 153.605292 214.190483 \r\nL 153.834072 214.544326 \r\nL 154.198807 214.507146 \r\nL 156.15693 213.961398 \r\nL 156.250665 214.476069 \r\nL 156.297563 213.008291 \r\nL 156.391286 213.541048 \r\nL 156.437561 213.266421 \r\nL 156.483259 213.430236 \r\nL 156.626512 214.359323 \r\nL 156.721082 214.163627 \r\nL 157.200548 213.917842 \r\nL 157.25312 214.272689 \r\nL 157.437401 214.097982 \r\nL 157.726618 214.435026 \r\nL 157.944149 213.689519 \r\nL 157.991378 213.72524 \r\nL 158.086191 213.913224 \r\nL 158.182059 214.533592 \r\nL 161.734441 214.586853 \r\nL 161.838585 214.275582 \r\nL 161.885102 214.300889 \r\nL 162.147948 214.577401 \r\nL 162.370786 214.485742 \r\nL 164.060148 214.595101 \r\nL 166.617734 214.572373 \r\nL 166.84895 214.457882 \r\nL 167.420698 213.310858 \r\nL 167.520587 214.335438 \r\nL 167.569326 214.28469 \r\nL 168.604711 214.088289 \r\nL 168.653848 214.185386 \r\nL 168.844359 214.049601 \r\nL 169.133858 214.513533 \r\nL 172.690313 214.106943 \r\nL 172.736837 214.142442 \r\nL 173.428907 214.384814 \r\nL 174.00759 214.433379 \r\nL 178.031595 214.521143 \r\nL 178.977164 214.391509 \r\nL 179.021436 214.314755 \r\nL 179.413084 214.440418 \r\nL 179.680856 214.310223 \r\nL 180.723999 214.4402 \r\nL 180.812598 214.422358 \r\nL 181.353305 213.966651 \r\nL 181.70837 214.352579 \r\nL 182.092533 214.31243 \r\nL 182.623815 214.466196 \r\nL 183.28239 214.413546 \r\nL 183.560884 212.874895 \r\nL 183.723665 209.765095 \r\nL 183.883902 212.177348 \r\nL 184.949637 213.721231 \r\nL 185.041719 214.405445 \r\nL 187.464587 214.252766 \r\nL 187.759981 213.554149 \r\nL 188.125659 214.278064 \r\nL 189.386461 214.309215 \r\nL 189.544134 214.480018 \r\nL 192.174702 214.112634 \r\nL 192.429153 214.457045 \r\nL 192.999682 214.408969 \r\nL 194.673144 214.397841 \r\nL 198.666452 213.654396 \r\nL 198.845671 213.991192 \r\nL 199.030066 213.536343 \r\nL 199.080703 213.628364 \r\nL 199.656921 213.773101 \r\nL 199.972272 213.563777 \r\nL 200.774973 213.361023 \r\nL 208.218513 213.039613 \r\nL 208.327074 213.246033 \r\nL 208.435084 213.056035 \r\nL 210.396678 212.478373 \r\nL 210.563504 209.924149 \r\nL 212.437611 213.007168 \r\nL 215.481724 212.487895 \r\nL 215.587971 210.557746 \r\nL 215.641987 210.607599 \r\nL 215.693274 212.102992 \r\nL 215.745958 211.449215 \r\nL 215.801516 211.327727 \r\nL 215.959834 212.571501 \r\nL 222.224686 212.678665 \r\nL 222.336417 210.356355 \r\nL 222.390814 211.840398 \r\nL 222.443639 211.143725 \r\nL 222.50237 211.085199 \r\nL 222.610581 212.319276 \r\nL 222.666649 212.245927 \r\nL 223.600912 212.834962 \r\nL 227.653909 212.675839 \r\nL 227.708225 212.311973 \r\nL 227.761937 210.819471 \r\nL 227.816338 211.361062 \r\nL 227.872371 211.178667 \r\nL 228.090125 212.79846 \r\nL 228.303912 211.637186 \r\nL 228.360988 211.088637 \r\nL 230.306209 212.827638 \r\nL 233.329971 213.297557 \r\nL 236.04471 213.251433 \r\nL 238.89294 212.808258 \r\nL 239.075487 211.408505 \r\nL 239.261633 212.086169 \r\nL 239.441107 212.165396 \r\nL 240.206694 213.328492 \r\nL 240.316086 212.874651 \r\nL 240.424664 213.300903 \r\nL 246.332738 213.589351 \r\nL 252.497304 213.737159 \r\nL 255.191992 213.485559 \r\nL 255.255482 211.958204 \r\nL 255.317784 212.87125 \r\nL 262.076076 201.119012 \r\nL 262.32053 120.49811 \r\nL 262.504139 177.981001 \r\nL 262.565587 195.379615 \r\nL 268.040643 209.383017 \r\nL 268.225039 204.543514 \r\nL 268.285021 204.924354 \r\nL 268.346134 208.295834 \r\nL 274.800257 203.149668 \r\nL 274.974979 110.666701 \r\nL 275.104979 17.083636 \r\nL 275.164996 31.881936 \r\nL 275.470999 198.153103 \r\nL 275.532757 206.757966 \r\nL 275.898273 192.432336 \r\nL 276.077999 157.773078 \r\nL 276.201797 124.883437 \r\nL 276.445337 205.946372 \r\nL 277.173937 201.896737 \r\nL 277.356736 195.444793 \r\nL 277.53931 206.335658 \r\nL 278.148279 206.367411 \r\nL 278.391053 196.748233 \r\nL 278.574 204.938668 \r\nL 280.885577 204.430708 \r\nL 281.007715 192.576546 \r\nL 281.069371 192.959869 \r\nL 281.191391 199.58279 \r\nL 281.252278 204.760785 \r\nL 281.923082 203.388287 \r\nL 282.105363 199.801074 \r\nL 282.227773 204.850219 \r\nL 288.621411 199.337652 \r\nL 288.854249 94.320231 \r\nL 288.925182 21.135284 \r\nL 288.9858 49.806582 \r\nL 289.229586 196.098113 \r\nL 289.776589 202.127071 \r\nL 289.961076 186.785837 \r\nL 290.08337 191.239529 \r\nL 290.206952 203.431068 \r\nL 290.87123 202.276293 \r\nL 291.175755 150.477459 \r\nL 291.421094 197.709485 \r\nL 292.028772 200.972226 \r\nL 292.152467 195.604562 \r\nL 292.213609 196.909859 \r\nL 292.396112 204.394749 \r\nL 294.639936 200.195161 \r\nL 294.704774 202.658558 \r\nL 294.830361 185.881526 \r\nL 294.888972 191.983868 \r\nL 295.012791 197.102657 \r\nL 295.071855 202.017264 \r\nL 302.561781 203.681771 \r\nL 302.684845 192.14597 \r\nL 302.745193 192.85953 \r\nL 302.807432 192.882118 \r\nL 302.867102 194.599999 \r\nL 302.991134 206.358547 \r\nL 304.752935 202.866807 \r\nL 304.995801 189.223521 \r\nL 305.301123 207.346106 \r\nL 305.973816 208.844756 \r\nL 306.095556 208.668217 \r\nL 307.063848 209.160894 \r\nL 307.125457 208.524437 \r\nL 307.186209 208.883621 \r\nL 307.37108 210.198754 \r\nL 308.771754 209.829468 \r\nL 310.717326 211.532712 \r\nL 310.839171 211.06426 \r\nL 310.902663 209.905136 \r\nL 310.96225 210.68054 \r\nL 311.022982 211.218703 \r\nL 314.535159 213.486596 \r\nL 316.562789 213.364732 \r\nL 316.751138 213.913465 \r\nL 317.836668 214.024733 \r\nL 318.630615 213.422008 \r\nL 318.817941 212.463589 \r\nL 319.066565 214.081009 \r\nL 320.390071 214.039248 \r\nL 320.684288 213.817117 \r\nL 320.74906 214.112983 \r\nL 320.821118 213.981358 \r\nL 320.950063 213.765206 \r\nL 321.074325 213.076777 \r\nL 321.190402 213.881158 \r\nL 321.682161 214.141021 \r\nL 323.316961 214.231802 \r\nL 324.317285 214.043143 \r\nL 326.677493 213.995268 \r\nL 328.797979 214.345895 \r\nL 329.533489 214.003505 \r\nL 329.79563 214.325925 \r\nL 332.220686 214.298337 \r\nL 334.265257 214.460568 \r\nL 334.334491 214.240811 \r\nL 334.732099 214.565543 \r\nL 334.803065 214.265784 \r\nL 335.482321 214.564614 \r\nL 335.877125 214.265768 \r\nL 335.951987 213.863759 \r\nL 336.0202 214.066462 \r\nL 336.090523 214.389392 \r\nL 336.715421 213.933652 \r\nL 337.028047 214.557124 \r\nL 337.286414 214.17408 \r\nL 337.636195 214.608719 \r\nL 341.740713 213.900541 \r\nL 341.809101 214.339961 \r\nL 341.877573 214.25484 \r\nL 341.948946 213.682098 \r\nL 342.015872 213.929462 \r\nL 342.087135 214.196361 \r\nL 342.163021 213.861877 \r\nL 342.305499 214.488432 \r\nL 342.982395 213.891652 \r\nL 343.327507 214.492676 \r\nL 343.396128 213.527293 \r\nL 343.465236 214.419256 \r\nL 343.531059 213.517362 \r\nL 343.594572 214.047942 \r\nL 343.659041 214.08762 \r\nL 343.85636 214.452005 \r\nL 344.472806 214.373488 \r\nL 344.603859 214.232174 \r\nL 344.743548 214.546725 \r\nL 344.810345 214.35252 \r\nL 348.596616 214.516163 \r\nL 349.558041 211.966348 \r\nL 349.619276 213.939366 \r\nL 349.684943 212.918858 \r\n\" style=\"fill:none;stroke:#1f77b4;stroke-linecap:square;stroke-width:1.5;\"/>\r\n   </g>\r\n   <g id=\"line2d_14\">\r\n    <defs>\r\n     <path d=\"M -3 3 \r\nL 3 -3 \r\nM -3 -3 \r\nL 3 3 \r\n\" id=\"mf5163702b7\" style=\"stroke:#ff7f0e;\"/>\r\n    </defs>\r\n    <g clip-path=\"url(#pf17dcc9102)\">\r\n     <use style=\"fill:#ff7f0e;stroke:#ff7f0e;\" x=\"262.32053\" xlink:href=\"#mf5163702b7\" y=\"120.49811\"/>\r\n     <use style=\"fill:#ff7f0e;stroke:#ff7f0e;\" x=\"268.225039\" xlink:href=\"#mf5163702b7\" y=\"204.543514\"/>\r\n     <use style=\"fill:#ff7f0e;stroke:#ff7f0e;\" x=\"275.104979\" xlink:href=\"#mf5163702b7\" y=\"17.083636\"/>\r\n     <use style=\"fill:#ff7f0e;stroke:#ff7f0e;\" x=\"276.201797\" xlink:href=\"#mf5163702b7\" y=\"124.883437\"/>\r\n     <use style=\"fill:#ff7f0e;stroke:#ff7f0e;\" x=\"277.356736\" xlink:href=\"#mf5163702b7\" y=\"195.444793\"/>\r\n     <use style=\"fill:#ff7f0e;stroke:#ff7f0e;\" x=\"278.391053\" xlink:href=\"#mf5163702b7\" y=\"196.748233\"/>\r\n     <use style=\"fill:#ff7f0e;stroke:#ff7f0e;\" x=\"281.007715\" xlink:href=\"#mf5163702b7\" y=\"192.576546\"/>\r\n     <use style=\"fill:#ff7f0e;stroke:#ff7f0e;\" x=\"282.105363\" xlink:href=\"#mf5163702b7\" y=\"199.801074\"/>\r\n     <use style=\"fill:#ff7f0e;stroke:#ff7f0e;\" x=\"288.925182\" xlink:href=\"#mf5163702b7\" y=\"21.135284\"/>\r\n     <use style=\"fill:#ff7f0e;stroke:#ff7f0e;\" x=\"289.961076\" xlink:href=\"#mf5163702b7\" y=\"186.785837\"/>\r\n     <use style=\"fill:#ff7f0e;stroke:#ff7f0e;\" x=\"290.99406\" xlink:href=\"#mf5163702b7\" y=\"173.318077\"/>\r\n     <use style=\"fill:#ff7f0e;stroke:#ff7f0e;\" x=\"291.175755\" xlink:href=\"#mf5163702b7\" y=\"150.477459\"/>\r\n     <use style=\"fill:#ff7f0e;stroke:#ff7f0e;\" x=\"292.152467\" xlink:href=\"#mf5163702b7\" y=\"195.604562\"/>\r\n     <use style=\"fill:#ff7f0e;stroke:#ff7f0e;\" x=\"294.639936\" xlink:href=\"#mf5163702b7\" y=\"200.195161\"/>\r\n     <use style=\"fill:#ff7f0e;stroke:#ff7f0e;\" x=\"294.830361\" xlink:href=\"#mf5163702b7\" y=\"185.881526\"/>\r\n     <use style=\"fill:#ff7f0e;stroke:#ff7f0e;\" x=\"302.684845\" xlink:href=\"#mf5163702b7\" y=\"192.14597\"/>\r\n     <use style=\"fill:#ff7f0e;stroke:#ff7f0e;\" x=\"304.995801\" xlink:href=\"#mf5163702b7\" y=\"189.223521\"/>\r\n    </g>\r\n   </g>\r\n   <g id=\"patch_3\">\r\n    <path d=\"M 30.103125 224.64 \r\nL 30.103125 7.2 \r\n\" style=\"fill:none;stroke:#000000;stroke-linecap:square;stroke-linejoin:miter;stroke-width:0.8;\"/>\r\n   </g>\r\n   <g id=\"patch_4\">\r\n    <path d=\"M 364.903125 224.64 \r\nL 364.903125 7.2 \r\n\" style=\"fill:none;stroke:#000000;stroke-linecap:square;stroke-linejoin:miter;stroke-width:0.8;\"/>\r\n   </g>\r\n   <g id=\"patch_5\">\r\n    <path d=\"M 30.103125 224.64 \r\nL 364.903125 224.64 \r\n\" style=\"fill:none;stroke:#000000;stroke-linecap:square;stroke-linejoin:miter;stroke-width:0.8;\"/>\r\n   </g>\r\n   <g id=\"patch_6\">\r\n    <path d=\"M 30.103125 7.2 \r\nL 364.903125 7.2 \r\n\" style=\"fill:none;stroke:#000000;stroke-linecap:square;stroke-linejoin:miter;stroke-width:0.8;\"/>\r\n   </g>\r\n  </g>\r\n </g>\r\n <defs>\r\n  <clipPath id=\"pf17dcc9102\">\r\n   <rect height=\"217.44\" width=\"334.8\" x=\"30.103125\" y=\"7.2\"/>\r\n  </clipPath>\r\n </defs>\r\n</svg>\r\n",
      "image/png": "[encoded data removed]"
     },
     "metadata": {
      "needs_background": "light"
     }
    }
   ],
   "source": [
    "plt.plot(bound_df['m/z'], bound_df['normalised_intensity'])\n",
    "peaks, _ = find_peaks(bound_df['normalised_intensity'], height=0.05)\n",
    "plt.plot(bound_df['m/z'][peaks], bound_df['normalised_intensity'][peaks], \"x\")"
   ]
  },
  {
   "cell_type": "code",
   "execution_count": 29,
   "metadata": {},
   "outputs": [
    {
     "output_type": "execute_result",
     "data": {
      "text/plain": [
       "(17, 4)"
      ]
     },
     "metadata": {},
     "execution_count": 29
    }
   ],
   "source": [
    "peaks_found = bound_df.loc[peaks]\n",
    "peaks_found.shape"
   ]
  },
  {
   "source": [
    "## Filter using binding list"
   ],
   "cell_type": "markdown",
   "metadata": {}
  },
  {
   "cell_type": "code",
   "execution_count": 32,
   "metadata": {},
   "outputs": [],
   "source": [
    "#filter using max value\n",
    "max_binding_mass = np.max(binding_df[\"Mass\"]) #maximum possible mass from all theoretical binding sites\n",
    "peaks_filtered = peaks_found[peaks_found[\"m/z\"] < max_binding_mass]"
   ]
  },
  {
   "cell_type": "code",
   "execution_count": 33,
   "metadata": {},
   "outputs": [],
   "source": [
    "#find sites by matching\n",
    "binding_site_df = pd.DataFrame([])\n",
    "\n",
    "for idx in peaks_filtered.index:\n",
    "    mass = peaks_filtered.loc[idx, \"m/z\"]\n",
    "\n",
    "    lower_bound = np.round(mass - tolerance)\n",
    "    upper_bound = np.round(mass + tolerance)\n",
    "\n",
    "    search_mask = (binding_df[\"Mass\"] > lower_bound) & (binding_df[\"Mass\"] < upper_bound)\n",
    "    number_of_searches = np.sum(search_mask)\n",
    "    \n",
    "\n",
    "    if number_of_searches > 0:\n",
    "        binding_site_df = binding_site_df.append(binding_df[search_mask], ignore_index=True)\n"
   ]
  },
  {
   "cell_type": "code",
   "execution_count": 34,
   "metadata": {},
   "outputs": [
    {
     "output_type": "execute_result",
     "data": {
      "text/plain": [
       "                                             Formula      Mass  Level  \\\n",
       "0  C₃₇₈H₆₃₀N₁₀₅O₁₁₈S₁ + (H₂O)₁ + (Cl)₁ + (Pt)₁ + ...  8871.714      4   \n",
       "1  C₃₇₈H₆₃₀N₁₀₅O₁₁₈S₁ + (H₂O)₁ + (Cl)₂ + (Pt)₁ + ...  8871.622      4   \n",
       "2  C₃₇₈H₆₃₀N₁₀₅O₁₁₈S₁ + (H₂O)₁ + (Cl)₁ + (Pt)₁ + ...  8889.748      4   \n",
       "3  C₃₇₈H₆₃₀N₁₀₅O₁₁₈S₁ + (H₂O)₁ + (Cl)₂ + (Pt)₁ + ...  8889.656      4   \n",
       "\n",
       "          Combs  \n",
       "0  (1, 2, 3, 4)  \n",
       "1  (1, 2, 3, 4)  \n",
       "2  (1, 2, 3, 4)  \n",
       "3  (1, 2, 3, 4)  "
      ],
      "text/html": "<div>\n<style scoped>\n    .dataframe tbody tr th:only-of-type {\n        vertical-align: middle;\n    }\n\n    .dataframe tbody tr th {\n        vertical-align: top;\n    }\n\n    .dataframe thead th {\n        text-align: right;\n    }\n</style>\n<table border=\"1\" class=\"dataframe\">\n  <thead>\n    <tr style=\"text-align: right;\">\n      <th></th>\n      <th>Formula</th>\n      <th>Mass</th>\n      <th>Level</th>\n      <th>Combs</th>\n    </tr>\n  </thead>\n  <tbody>\n    <tr>\n      <th>0</th>\n      <td>C₃₇₈H₆₃₀N₁₀₅O₁₁₈S₁ + (H₂O)₁ + (Cl)₁ + (Pt)₁ + ...</td>\n      <td>8871.714</td>\n      <td>4</td>\n      <td>(1, 2, 3, 4)</td>\n    </tr>\n    <tr>\n      <th>1</th>\n      <td>C₃₇₈H₆₃₀N₁₀₅O₁₁₈S₁ + (H₂O)₁ + (Cl)₂ + (Pt)₁ + ...</td>\n      <td>8871.622</td>\n      <td>4</td>\n      <td>(1, 2, 3, 4)</td>\n    </tr>\n    <tr>\n      <th>2</th>\n      <td>C₃₇₈H₆₃₀N₁₀₅O₁₁₈S₁ + (H₂O)₁ + (Cl)₁ + (Pt)₁ + ...</td>\n      <td>8889.748</td>\n      <td>4</td>\n      <td>(1, 2, 3, 4)</td>\n    </tr>\n    <tr>\n      <th>3</th>\n      <td>C₃₇₈H₆₃₀N₁₀₅O₁₁₈S₁ + (H₂O)₁ + (Cl)₂ + (Pt)₁ + ...</td>\n      <td>8889.656</td>\n      <td>4</td>\n      <td>(1, 2, 3, 4)</td>\n    </tr>\n  </tbody>\n</table>\n</div>"
     },
     "metadata": {},
     "execution_count": 34
    }
   ],
   "source": [
    "binding_site_df"
   ]
  },
  {
   "cell_type": "code",
   "execution_count": null,
   "metadata": {},
   "outputs": [],
   "source": []
  }
 ]
}