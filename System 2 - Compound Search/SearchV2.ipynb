{
 "metadata": {
  "language_info": {
   "codemirror_mode": {
    "name": "ipython",
    "version": 3
   },
   "file_extension": ".py",
   "mimetype": "text/x-python",
   "name": "python",
   "nbconvert_exporter": "python",
   "pygments_lexer": "ipython3",
   "version": "3.8.2-final"
  },
  "orig_nbformat": 2,
  "kernelspec": {
   "name": "python38264bit7584c91ca25943e3bf1b09e04ce8af7b",
   "display_name": "Python 3.8.2 64-bit"
  }
 },
 "nbformat": 4,
 "nbformat_minor": 2,
 "cells": [
  {
   "cell_type": "code",
   "execution_count": 1,
   "metadata": {},
   "outputs": [],
   "source": [
    "import pandas as pd \n",
    "import numpy as np\n",
    "from os import listdir\n",
    "from itertools import combinations, product  \n",
    "from scipy.signal import find_peaks \n",
    "import matplotlib.pyplot as plt\n",
    "from sklearn.preprocessing import MinMaxScaler \n",
    "from tqdm import tqdm\n",
    "\n",
    "%matplotlib inline\n",
    "\n",
    "import config\n",
    "from file_io import read\n",
    "from normalise import normalise_spectrums\n",
    "from peak_search import peak_find, match_peaks\n",
    "from theoretical_binding_list import create_binding_list"
   ]
  },
  {
   "cell_type": "code",
   "execution_count": 2,
   "metadata": {},
   "outputs": [],
   "source": [
    "data_read_path = \"..//Data//\"\n",
    "compound_list_path = data_read_path + \"Compound Constraints//\"\n",
    "spectra_path = data_read_path + \"Deconvoluted Spectra//\"\n",
    "spectra_files = listdir(spectra_path)\n",
    "compounds_files = listdir(compound_list_path)\n",
    "\n",
    "bound_file_path = spectra_path+spectra_files[0]\n",
    "unbound_file_path = spectra_path+spectra_files[1]\n",
    "compounds_file_path = compound_list_path+compounds_files[0]"
   ]
  },
  {
   "cell_type": "code",
   "execution_count": 3,
   "metadata": {},
   "outputs": [],
   "source": [
    "bound_df, unbound_df, compounds = read(bound_file_path, unbound_file_path, compounds_file_path)\n",
    "\n",
    "#extract information about Ub and the other compounds\n",
    "other_compounds_df = compounds[compounds.Name != config.protein] #extract all compounds but Ub\n",
    "protein_df = compounds[compounds.Name == config.protein] #extract Ub information\n",
    "\n",
    "#Perform peak detection\n",
    "#scale spectrums between 0 and 1\n",
    "unbound_df, bound_df = normalise_spectrums(unbound_df, bound_df)\n",
    "\n",
    "#find peaks \n",
    "peaks = peak_find(bound_df)"
   ]
  },
  {
   "cell_type": "code",
   "execution_count": null,
   "metadata": {},
   "outputs": [],
   "source": [
    "binding_df = create_binding_list(other_compounds_df, protein_df)"
   ]
  },
  {
   "cell_type": "code",
   "execution_count": 19,
   "metadata": {},
   "outputs": [
    {
     "output_type": "execute_result",
     "data": {
      "text/plain": [
       "                       Formula      Mass  Level Combs\n",
       "0  C₃₇₈H₆₃₀N₁₀₅O₁₁₈S₁ + (NH₄)₅  8661.856      1  (9,)"
      ],
      "text/html": "<div>\n<style scoped>\n    .dataframe tbody tr th:only-of-type {\n        vertical-align: middle;\n    }\n\n    .dataframe tbody tr th {\n        vertical-align: top;\n    }\n\n    .dataframe thead th {\n        text-align: right;\n    }\n</style>\n<table border=\"1\" class=\"dataframe\">\n  <thead>\n    <tr style=\"text-align: right;\">\n      <th></th>\n      <th>Formula</th>\n      <th>Mass</th>\n      <th>Level</th>\n      <th>Combs</th>\n    </tr>\n  </thead>\n  <tbody>\n    <tr>\n      <th>0</th>\n      <td>C₃₇₈H₆₃₀N₁₀₅O₁₁₈S₁ + (NH₄)₅</td>\n      <td>8661.856</td>\n      <td>1</td>\n      <td>(9,)</td>\n    </tr>\n  </tbody>\n</table>\n</div>"
     },
     "metadata": {},
     "execution_count": 19
    }
   ],
   "source": [
    "#filter using max value\n",
    "max_binding_mass = np.max(binding_df[\"Mass\"]) #maximum possible mass from all theoretical binding sites\n",
    "peaks = peaks[peaks[\"m/z\"] < max_binding_mass] #remove incorrect peaks"
   ]
  },
  {
   "cell_type": "code",
   "execution_count": null,
   "metadata": {},
   "outputs": [],
   "source": [
    "#match peaks \n",
    "binding_sites_df = match_peaks(peaks, binding_df)"
   ]
  }
 ]
}