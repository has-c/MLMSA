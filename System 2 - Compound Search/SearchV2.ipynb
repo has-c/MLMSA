{
 "metadata": {
  "language_info": {
   "codemirror_mode": {
    "name": "ipython",
    "version": 3
   },
   "file_extension": ".py",
   "mimetype": "text/x-python",
   "name": "python",
   "nbconvert_exporter": "python",
   "pygments_lexer": "ipython3",
   "version": "3.8.2-final"
  },
  "orig_nbformat": 2,
  "kernelspec": {
   "name": "python38264bit7584c91ca25943e3bf1b09e04ce8af7b",
   "display_name": "Python 3.8.2 64-bit"
  }
 },
 "nbformat": 4,
 "nbformat_minor": 2,
 "cells": [
  {
   "cell_type": "code",
   "execution_count": 1,
   "metadata": {},
   "outputs": [],
   "source": [
    "import pandas as pd \n",
    "import numpy as np\n",
    "from os import listdir\n",
    "from itertools import combinations, product  \n",
    "from scipy.signal import find_peaks \n",
    "import matplotlib.pyplot as plt\n",
    "from sklearn.preprocessing import MinMaxScaler \n",
    "from tqdm import tqdm\n",
    "\n",
    "%matplotlib inline\n",
    "\n",
    "import config\n",
    "from file_io import read\n",
    "from normalise import normalise_spectrums\n",
    "from peak_search import peak_find, match_peaks\n",
    "from theoretical_binding_list import create_binding_list"
   ]
  },
  {
   "cell_type": "code",
   "execution_count": 2,
   "metadata": {},
   "outputs": [],
   "source": [
    "data_read_path = \"..//Data//\"\n",
    "compound_list_path = data_read_path + \"Compound Constraints//\"\n",
    "spectra_path = data_read_path + \"Deconvoluted Spectra//\"\n",
    "spectra_files = listdir(spectra_path)\n",
    "compounds_files = listdir(compound_list_path)\n",
    "\n",
    "bound_file_path = spectra_path+spectra_files[0]\n",
    "unbound_file_path = spectra_path+spectra_files[1]\n",
    "compounds_file_path = compound_list_path+compounds_files[1]"
   ]
  },
  {
   "cell_type": "code",
   "execution_count": 3,
   "metadata": {},
   "outputs": [
    {
     "output_type": "stream",
     "name": "stdout",
     "text": [
      "..//Data//Deconvoluted Spectra//Ubiquitin_plusC_1in100_000001.xlsx\n..//Data//Deconvoluted Spectra//Ubi_1in100_broad band_000001.xlsx\n..//Data//Compound Constraints//Compounds_CisOxTrans.xlsx\n"
     ]
    }
   ],
   "source": [
    "print(bound_file_path)\n",
    "print(unbound_file_path)\n",
    "print(compounds_file_path)"
   ]
  },
  {
   "cell_type": "code",
   "execution_count": 4,
   "metadata": {},
   "outputs": [],
   "source": [
    "bound_df, unbound_df, compounds = read(bound_file_path, unbound_file_path, compounds_file_path)\n",
    "\n",
    "#extract information about Ub and the other compounds   \n",
    "other_compounds_df = compounds[compounds.Name != config.protein] #extract all compounds but Ub\n",
    "protein_df = compounds[compounds.Name == config.protein] #extract Ub information\n",
    "\n",
    "#Perform peak detection\n",
    "#scale spectrums between 0 and 1\n",
    "unbound_df, bound_df = normalise_spectrums(unbound_df, bound_df)\n",
    "\n",
    "#find peaks \n",
    "peaks = peak_find(bound_df)"
   ]
  },
  {
   "cell_type": "code",
   "execution_count": 5,
   "metadata": {},
   "outputs": [
    {
     "output_type": "stream",
     "name": "stderr",
     "text": [
      " 45%|████▌     | 5/11 [9:31:30<11:25:48, 6858.09s/it] \n",
      "ERROR:root:Internal Python error in the inspect module.\n",
      "Below is the traceback from this internal error.\n",
      "\n",
      "Traceback (most recent call last):\n",
      "  File \"C:\\Python38\\lib\\site-packages\\IPython\\core\\interactiveshell.py\", line 3331, in run_code\n",
      "    exec(code_obj, self.user_global_ns, self.user_ns)\n",
      "  File \"<ipython-input-5-87a5edc6cded>\", line 1, in <module>\n",
      "    binding_df = create_binding_list(other_compounds_df, protein_df)\n",
      "  File \"c:\\Users\\Hasnaij\\Desktop\\Compsci380\\MLMSA\\System 2 - Compound Search\\theoretical_binding_list.py\", line 81, in create_binding_list\n",
      "    binding_df = binding_df.append(\n",
      "  File \"C:\\Python38\\lib\\site-packages\\pandas\\core\\frame.py\", line 7081, in append\n",
      "    return concat(\n",
      "  File \"C:\\Python38\\lib\\site-packages\\pandas\\core\\reshape\\concat.py\", line 284, in concat\n",
      "    return op.get_result()\n",
      "  File \"C:\\Python38\\lib\\site-packages\\pandas\\core\\reshape\\concat.py\", line 496, in get_result\n",
      "    new_data = concatenate_block_managers(\n",
      "  File \"C:\\Python38\\lib\\site-packages\\pandas\\core\\internals\\managers.py\", line 2022, in concatenate_block_managers\n",
      "    concatenate_join_units(join_units, concat_axis, copy=copy),\n",
      "  File \"C:\\Python38\\lib\\site-packages\\pandas\\core\\internals\\concat.py\", line 246, in concatenate_join_units\n",
      "    to_concat = [\n",
      "  File \"C:\\Python38\\lib\\site-packages\\pandas\\core\\internals\\concat.py\", line 247, in <listcomp>\n",
      "    ju.get_reindexed_values(empty_dtype=empty_dtype, upcasted_na=upcasted_na)\n",
      "  File \"C:\\Python38\\lib\\site-packages\\pandas\\core\\internals\\concat.py\", line 231, in get_reindexed_values\n",
      "    values = algos.take_nd(values, indexer, axis=ax, fill_value=fill_value)\n",
      "KeyboardInterrupt\n",
      "\n",
      "During handling of the above exception, another exception occurred:\n",
      "\n",
      "Traceback (most recent call last):\n",
      "  File \"C:\\Python38\\lib\\site-packages\\IPython\\core\\interactiveshell.py\", line 2044, in showtraceback\n",
      "    stb = value._render_traceback_()\n",
      "AttributeError: 'KeyboardInterrupt' object has no attribute '_render_traceback_'\n",
      "\n",
      "During handling of the above exception, another exception occurred:\n",
      "\n",
      "Traceback (most recent call last):\n",
      "  File \"C:\\Python38\\lib\\site-packages\\IPython\\core\\ultratb.py\", line 1148, in get_records\n",
      "    return _fixed_getinnerframes(etb, number_of_lines_of_context, tb_offset)\n",
      "  File \"C:\\Python38\\lib\\site-packages\\IPython\\core\\ultratb.py\", line 316, in wrapped\n",
      "    return f(*args, **kwargs)\n",
      "  File \"C:\\Python38\\lib\\site-packages\\IPython\\core\\ultratb.py\", line 350, in _fixed_getinnerframes\n",
      "    records = fix_frame_records_filenames(inspect.getinnerframes(etb, context))\n",
      "  File \"C:\\Python38\\lib\\inspect.py\", line 1503, in getinnerframes\n",
      "    frameinfo = (tb.tb_frame,) + getframeinfo(tb, context)\n",
      "  File \"C:\\Python38\\lib\\inspect.py\", line 1465, in getframeinfo\n",
      "    lines, lnum = findsource(frame)\n",
      "  File \"C:\\Python38\\lib\\site-packages\\IPython\\core\\ultratb.py\", line 182, in findsource\n",
      "    lines = linecache.getlines(file, globals_dict)\n",
      "  File \"C:\\Python38\\lib\\linecache.py\", line 47, in getlines\n",
      "    return updatecache(filename, module_globals)\n",
      "  File \"C:\\Python38\\lib\\linecache.py\", line 136, in updatecache\n",
      "    with tokenize.open(fullname) as fp:\n",
      "  File \"C:\\Python38\\lib\\tokenize.py\", line 392, in open\n",
      "    buffer = _builtin_open(filename, 'rb')\n",
      "KeyboardInterrupt\n"
     ]
    },
    {
     "output_type": "error",
     "ename": "KeyboardInterrupt",
     "evalue": "",
     "traceback": [
      "\u001b[1;31m---------------------------------------------------------------------------\u001b[0m"
     ]
    }
   ],
   "source": [
    "binding_df = create_binding_list(other_compounds_df, protein_df)"
   ]
  },
  {
   "cell_type": "code",
   "execution_count": 19,
   "metadata": {},
   "outputs": [
    {
     "output_type": "execute_result",
     "data": {
      "text/plain": [
       "                       Formula      Mass  Level Combs\n",
       "0  C₃₇₈H₆₃₀N₁₀₅O₁₁₈S₁ + (NH₄)₅  8661.856      1  (9,)"
      ],
      "text/html": "<div>\n<style scoped>\n    .dataframe tbody tr th:only-of-type {\n        vertical-align: middle;\n    }\n\n    .dataframe tbody tr th {\n        vertical-align: top;\n    }\n\n    .dataframe thead th {\n        text-align: right;\n    }\n</style>\n<table border=\"1\" class=\"dataframe\">\n  <thead>\n    <tr style=\"text-align: right;\">\n      <th></th>\n      <th>Formula</th>\n      <th>Mass</th>\n      <th>Level</th>\n      <th>Combs</th>\n    </tr>\n  </thead>\n  <tbody>\n    <tr>\n      <th>0</th>\n      <td>C₃₇₈H₆₃₀N₁₀₅O₁₁₈S₁ + (NH₄)₅</td>\n      <td>8661.856</td>\n      <td>1</td>\n      <td>(9,)</td>\n    </tr>\n  </tbody>\n</table>\n</div>"
     },
     "metadata": {},
     "execution_count": 19
    }
   ],
   "source": [
    "#filter using max value\n",
    "max_binding_mass = np.max(binding_df[\"Mass\"]) #maximum possible mass from all theoretical binding sites\n",
    "peaks = peaks[peaks[\"m/z\"] < max_binding_mass] #remove incorrect peaks"
   ]
  },
  {
   "cell_type": "code",
   "execution_count": null,
   "metadata": {},
   "outputs": [],
   "source": [
    "#match peaks \n",
    "binding_sites_df = match_peaks(peaks, binding_df)"
   ]
  }
 ]
}