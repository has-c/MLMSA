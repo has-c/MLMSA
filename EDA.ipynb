{
 "cells": [
  {
   "cell_type": "code",
   "execution_count": 29,
   "metadata": {},
   "outputs": [],
   "source": [
    "from os import listdir\n",
    "import matplotlib.pyplot as plt\n",
    "\n",
    "%matplotlib inline"
   ]
  },
  {
   "cell_type": "code",
   "execution_count": 8,
   "metadata": {},
   "outputs": [],
   "source": [
    "base_url = 'Sample data//'\n",
    "test_url = base_url + 'o_1_1.xy'"
   ]
  },
  {
   "cell_type": "code",
   "execution_count": 97,
   "metadata": {},
   "outputs": [],
   "source": [
    "#Open the file with the spectra and read the contents\n",
    "input_file = open(test_url, \"r\")\n",
    "input_lines = input_file.readlines()\n",
    "input_file.close()"
   ]
  },
  {
   "cell_type": "code",
   "execution_count": 98,
   "metadata": {},
   "outputs": [],
   "source": [
    "#clean data\n",
    "data = remove_html(input_lines)\n",
    "\n",
    "#final data contains lines \n",
    "#each lines contains an m/z and an intensity "
   ]
  },
  {
   "cell_type": "code",
   "execution_count": 99,
   "metadata": {},
   "outputs": [],
   "source": [
    "#m/z concatentation\n",
    "peaks_dict = mass_charge_concatenation(data)"
   ]
  },
  {
   "cell_type": "code",
   "execution_count": 100,
   "metadata": {},
   "outputs": [],
   "source": [
    "#normalise peaks\n",
    "peaks, mass_charges = normalise(peaks_dict)"
   ]
  },
  {
   "cell_type": "code",
   "execution_count": 101,
   "metadata": {},
   "outputs": [
    {
     "data": {
      "image/png": "[encoded data removed]",
      "text/plain": [
       "<Figure size 432x288 with 1 Axes>"
      ]
     },
     "metadata": {
      "needs_background": "light"
     },
     "output_type": "display_data"
    }
   ],
   "source": [
    "plot_spectrum(peaks, mass_charges)"
   ]
  },
  {
   "cell_type": "code",
   "execution_count": 103,
   "metadata": {},
   "outputs": [],
   "source": [
    "#To reduce the number of peaks needed to represent the meaningful features in the data\n",
    "# the list of peaks is filtered to a list of local maxima\n",
    "local_peaks, local_mass_charges = get_maxima(peaks,mass_charges)"
   ]
  },
  {
   "cell_type": "code",
   "execution_count": 107,
   "metadata": {},
   "outputs": [
    {
     "data": {
      "image/png": "[encoded data removed]",
      "text/plain": [
       "<Figure size 432x288 with 1 Axes>"
      ]
     },
     "metadata": {
      "needs_background": "light"
     },
     "output_type": "display_data"
    }
   ],
   "source": [
    "plot_spectrum(local_peaks, local_mass_charges)"
   ]
  },
  {
   "cell_type": "markdown",
   "metadata": {},
   "source": [
    "### Helper Functions"
   ]
  },
  {
   "cell_type": "code",
   "execution_count": 92,
   "metadata": {},
   "outputs": [],
   "source": [
    "#remove line break characters from the plain text\n",
    "def remove_html(data):\n",
    "    return [data[idx][0:-1] if data[idx][-1] == '\\n' else data[idx] for idx in range(len(data))]"
   ]
  },
  {
   "cell_type": "code",
   "execution_count": 93,
   "metadata": {},
   "outputs": [],
   "source": [
    "def mass_charge_concatenation(data):\n",
    "    \n",
    "    #Initialise a dictionary to store the peaks\n",
    "    peaks_dict = {}\n",
    "    #Process each line of the text file and store the data in the dictionary\n",
    "    for line in data:\n",
    "        current_mz, current_intensity = line.split()\n",
    "        current_mz = float(current_mz)\n",
    "        current_intensity = float(current_intensity)\n",
    "        #Multiple peaks with the same m/z are present (usually separated by time) then sum them and if not \n",
    "        #create new peak\n",
    "        if current_mz in peaks_dict.keys():\n",
    "            peaks_dict[current_mz] += current_intensity\n",
    "        else:\n",
    "            peaks_dict[current_mz] = current_intensity\n",
    "            \n",
    "    return peaks_dict"
   ]
  },
  {
   "cell_type": "code",
   "execution_count": 94,
   "metadata": {},
   "outputs": [],
   "source": [
    "def normalise(peaks_dict):\n",
    "    peaks_list = []\n",
    "    mass_charge_list = []\n",
    "    #The intensity value of each peak is divided by the maximum intensity value\n",
    "    #to normalise the data with the max at i = 1\n",
    "    max_i = max(peaks_dict.values())\n",
    "    for mz, intensity in peaks_dict.items():\n",
    "        peaks_list.append(intensity / max_i)\n",
    "        mass_charge_list.append(mz)\n",
    "    return peaks_list,mass_charge_list"
   ]
  },
  {
   "cell_type": "code",
   "execution_count": 95,
   "metadata": {},
   "outputs": [],
   "source": [
    "def plot_spectrum(peaks, mass_charges):\n",
    "    plt.plot(mass_charges, peaks)"
   ]
  },
  {
   "cell_type": "code",
   "execution_count": 96,
   "metadata": {},
   "outputs": [],
   "source": [
    "#Matthew's local maxima peak finder\n",
    "\n",
    "def get_maxima(peaks, mass_charges):\n",
    "    maxima = []\n",
    "    related_mass_charges = []\n",
    "    \n",
    "    appendable = True\n",
    "    for i in range(len(peaks)):\n",
    "        peak = peaks[i]\n",
    "        mass_charge = mass_charges[i]\n",
    "        #Only significant (intensity > 5% of the max intensity) peaks are considered\n",
    "        if peak > 0.05 and appendable:\n",
    "            maximum = True\n",
    "            #The left and right bounds denote a group of 40 peaks surrounding the peak being examined\n",
    "            left_bound = max(0, i - 20)\n",
    "            right_bound = min(len(peaks), i + 20)\n",
    "            for j in range(left_bound, right_bound):\n",
    "                comparison_peak = peaks[j]\n",
    "                #If any peaks withing the group are higher than the peak being examined, it is not considered a local maximum\n",
    "                if comparison_peak > peak:\n",
    "                    maximum = False\n",
    "            if maximum:\n",
    "                maxima.append(peak)\n",
    "                related_mass_charges.append(mass_charge)\n",
    "                #Once a local maxima has been found, no further peaks are considered until a sufficiently small peak (intensity <= 1% of the max intensity) occurs\n",
    "                #This is to prevent small fluctuations in the data from causing many local maxima to be found within the same overall peak\n",
    "                appendable = False\n",
    "        elif peak <= 0.01:\n",
    "            appendable = True\n",
    "    return maxima, related_mass_charges"
   ]
  },
  {
   "cell_type": "code",
   "execution_count": null,
   "metadata": {},
   "outputs": [],
   "source": []
  },
  {
   "cell_type": "code",
   "execution_count": null,
   "metadata": {},
   "outputs": [],
   "source": []
  },
  {
   "cell_type": "code",
   "execution_count": null,
   "metadata": {},
   "outputs": [],
   "source": []
  }
 ],
 "metadata": {
  "kernelspec": {
   "display_name": "Python 3",
   "language": "python",
   "name": "python3"
  },
  "language_info": {
   "codemirror_mode": {
    "name": "ipython",
    "version": 3
   },
   "file_extension": ".py",
   "mimetype": "text/x-python",
   "name": "python",
   "nbconvert_exporter": "python",
   "pygments_lexer": "ipython3",
   "version": "3.8.2"
  }
 },
 "nbformat": 4,
 "nbformat_minor": 4
}
